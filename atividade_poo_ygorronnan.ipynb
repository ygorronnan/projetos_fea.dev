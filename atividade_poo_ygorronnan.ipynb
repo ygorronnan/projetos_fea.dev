{
 "cells": [
  {
   "cell_type": "markdown",
   "metadata": {},
   "source": [
    "A Programação Orientada a Objetos *(POO)* é um estilo de programação que organiza o código em unidades chamadas objetos. Esses objetos representam entidades do mundo real e possuem características *(dados)* e ações *(comportamentos)*. **Esse modelo facilita a organização do código e torna os programas mais intuitivos e modulares**.\n",
    "\n",
    "Em suma, esse paradigma visa aproximar a programação da forma como percebemos o mundo real, onde objetos interagem entre si para realizar tarefas."
   ]
  },
  {
   "cell_type": "markdown",
   "metadata": {
    "vscode": {
     "languageId": "plaintext"
    }
   },
   "source": [
    "#### **Diferença entre Programação Procedural e Programação Orientada a Objetos**"
   ]
  },
  {
   "cell_type": "markdown",
   "metadata": {},
   "source": [
    "A programação procedural, que geralmente é a primeira abordagem que aprendemos, organiza o código em funções e estruturas de controle, mantendo os dados e os procedimentos separados. Por outro lado, a Programação Orientada a Objetos encapsula dados e comportamentos dentro de objetos, promovendo uma estrutura mais modular, facilitando a reutilização e a manutenção do código."
   ]
  },
  {
   "cell_type": "markdown",
   "metadata": {},
   "source": [
    "##### *Exemplo de Programação Procedural*"
   ]
  },
  {
   "cell_type": "code",
   "execution_count": 143,
   "metadata": {},
   "outputs": [
    {
     "name": "stdout",
     "output_type": "stream",
     "text": [
      "Saldo de Diego: 1500\n"
     ]
    }
   ],
   "source": [
    "# Procedural: Funções manipulam diretamente os dados\n",
    "def criar_conta(nome, saldo):\n",
    "    return {\"nome\": nome, \"saldo\": saldo}\n",
    "\n",
    "def depositar(conta, valor):\n",
    "    conta[\"saldo\"] += valor\n",
    "\n",
    "def exibir_saldo(conta):\n",
    "    print(f\"Saldo de {conta['nome']}: {conta['saldo']}\")\n",
    "\n",
    "# Uso\n",
    "diego = criar_conta(\"Diego\", 1000)\n",
    "depositar(diego, 500)\n",
    "exibir_saldo(diego)"
   ]
  },
  {
   "cell_type": "markdown",
   "metadata": {},
   "source": [
    "##### *Exemplo de Programação Orientada a Objetos*"
   ]
  },
  {
   "cell_type": "code",
   "execution_count": 144,
   "metadata": {},
   "outputs": [
    {
     "name": "stdout",
     "output_type": "stream",
     "text": [
      "Saldo de Diego: 1500\n"
     ]
    }
   ],
   "source": [
    "# Orientado a Objetos: Criamos uma classe Conta\n",
    "class Conta:\n",
    "    def __init__(self, nome, saldo):\n",
    "        self.nome = nome\n",
    "        self.saldo = saldo\n",
    "    \n",
    "    def depositar(self, valor):\n",
    "        self.saldo += valor\n",
    "    \n",
    "    def exibir_saldo(self):\n",
    "        print(f\"Saldo de {self.nome}: {self.saldo}\")\n",
    "\n",
    "# Uso\n",
    "diego = Conta(\"Diego\", 1000)\n",
    "diego.depositar(500)\n",
    "diego.exibir_saldo()"
   ]
  },
  {
   "cell_type": "markdown",
   "metadata": {},
   "source": [
    "##### **Benefícios da Programação Orientada a Objetos**"
   ]
  },
  {
   "cell_type": "markdown",
   "metadata": {},
   "source": [
    "- Modularidade: O código é dividido em objetos independentes, facilitando a manutenção.\n",
    "  \n",
    "- Reutilização de Código: Classes podem ser reutilizadas em diferentes partes do projeto.\n",
    "  \n",
    "- Encapsulamento: Protege os dados do objeto e permite melhor controle de acesso.\n",
    "  \n",
    "- Flexibilidade e Extensibilidade: É fácil adicionar novas funcionalidades.\n",
    "  \n",
    "- Facilidade na modelagem: Permite criar representações próximas ao mundo real"
   ]
  },
  {
   "cell_type": "markdown",
   "metadata": {},
   "source": [
    "## **1.2 - Definições fundamentais**"
   ]
  },
  {
   "cell_type": "markdown",
   "metadata": {},
   "source": [
    "### **Classes**"
   ]
  },
  {
   "cell_type": "markdown",
   "metadata": {},
   "source": [
    "#### **Definição intuitiva**"
   ]
  },
  {
   "cell_type": "markdown",
   "metadata": {},
   "source": [
    "**Uma classe pode ser entendida como um molde ou projeto.**\n",
    "\n",
    "Exemplo intuitivo:\n",
    "Imagine que você quer construir várias casas. Contudo, antes de começar, precisa de um projeto que detalhe:\n",
    "\n",
    "- Número de quartos\n",
    "  \n",
    "- Localização da porta\n",
    "  \n",
    "- Tamanho das janelas\n",
    "  \n",
    "- E outros detalhes importantes\n",
    "  \n",
    "**Esse projeto não é uma casa de verdade, mas define todas as informações necessárias para construir quantas casas você \n",
    "quiser. Esse projeto é o que chamamos de classe.**"
   ]
  },
  {
   "cell_type": "markdown",
   "metadata": {},
   "source": [
    "#### **Classes na programação**"
   ]
  },
  {
   "cell_type": "markdown",
   "metadata": {},
   "source": [
    "Em termos de programação, uma classe funciona da mesma forma. Ela é um projeto que define as características (atributos)\n",
    "e os comportamentos (métodos) de um tipo específico de elemento.\n",
    "\n",
    "Por exemplo, se quisermos representar carros no nosso programa, criamos uma classe chamada Carro. Essa classe vai dizer:\n",
    "\n",
    "- Quais informações cada carro terá (cor, modelo, ano de fabricação).\n",
    "  \n",
    "- Quais ações o carro pode realizar (acelerar, frear, buzinar)."
   ]
  },
  {
   "cell_type": "markdown",
   "metadata": {},
   "source": [
    "#### **Outra forma de pensar em uma classe**"
   ]
  },
  {
   "cell_type": "markdown",
   "metadata": {},
   "source": [
    "**Uma classe também pode ser vista como a criação de um novo tipo de dado.**\n",
    "\n",
    "Em Python, já temos tipos de dados como int *(para números inteiros)*, str *(para textos)* e float *(para números decimais)*.\n",
    "**Quando você cria uma classe, está definindo seu próprio tipo de dado personalizado, com características e comportamentos únicos**.\n",
    "Por exemplo:\n",
    "\n",
    "Enquanto o tipo int serve para representar números inteiros. A classe Carro pode servir para representar carros, com todas \n",
    "as informações que você quiser incluir (como marca, cor e velocidade).\n"
   ]
  },
  {
   "cell_type": "markdown",
   "metadata": {},
   "source": [
    "#### **Exemplo prático**"
   ]
  },
  {
   "cell_type": "code",
   "execution_count": 145,
   "metadata": {},
   "outputs": [],
   "source": [
    "# Vamos começar a criar uma classe para representar carros\n",
    "\n",
    "# Primeiro, vamos criar a estrutura base da nossa classe.\n",
    "# Neste momento, ela é apenas um \"projeto\" vazio, sem características nem comportamentos.\n",
    "\n",
    "class Carro:\n",
    "    pass    # Usamos a palavra-chave 'pass' para indicar que a classe está vazia por enquanto.\n",
    "            # Isso evita erros de sintaxe e nos permite continuar desenvolvendo o código depois.    "
   ]
  },
  {
   "cell_type": "markdown",
   "metadata": {},
   "source": [
    "### **Atributos**"
   ]
  },
  {
   "cell_type": "markdown",
   "metadata": {},
   "source": [
    "#### **Definição intuitiva**"
   ]
  },
  {
   "cell_type": "markdown",
   "metadata": {},
   "source": [
    "\n",
    "Depois de entender o que é uma classe (um molde ou projeto), **podemos pensar nos atributos como as características ou propriedades que definimos nesse projeto**.\n",
    "\n",
    "Exemplo intuitivo:\n",
    "Imagine novamente o projeto de uma casa. Esse projeto descreve várias características, como:\n",
    "\n",
    "- Número de quartos\n",
    "- Cor das paredes\n",
    "- Tamanho das janelas\n",
    "- E outros detalhes importantes\n",
    "\n",
    "Esses detalhes são os atributos da casa. Quando você constrói várias casas com base no mesmo projeto, cada uma pode ter atributos diferentes. \n",
    "\n",
    "Por exemplo:\n",
    "\n",
    "Uma casa pode ter 3 quartos e paredes azuis. Enquanto outra pode ter 4 quartos e paredes brancas.\n",
    "\n",
    "**Ou seja, mesmo que o projeto (classe) seja o mesmo, os atributos permitem que cada casa construída tenha suas próprias características únicas.**"
   ]
  },
  {
   "cell_type": "markdown",
   "metadata": {},
   "source": [
    "#### **Atributos na programação**"
   ]
  },
  {
   "cell_type": "markdown",
   "metadata": {},
   "source": [
    "**Em termos de programação, atributos são as informações que descrevem algo criado a partir de uma classe.**\n",
    "\n",
    "Por exemplo, se temos uma classe chamada Carro, os atributos podem ser:\n",
    "\n",
    "- cor (ex: vermelho, azul)\n",
    "- modelo (ex: Toyota, Ford)\n",
    "- ano de fabricação (ex: 2020, 2023)\n",
    "- velocidade atual (ex: 0 km/h, 60 km/h)\n",
    "  \n",
    "Cada carro que criamos a partir da classe Carro pode ter atributos diferentes. **Assim como no exemplo das casas, o molde é o mesmo, mas os detalhes (atributos) mudam de um carro para outro.**"
   ]
  },
  {
   "cell_type": "markdown",
   "metadata": {},
   "source": [
    "#### **Exemplo prático**"
   ]
  },
  {
   "cell_type": "code",
   "execution_count": 146,
   "metadata": {},
   "outputs": [],
   "source": [
    "# 2. Adicionando Atributos\n",
    "\n",
    "# Agora vamos definir as características (atributos) que cada carro terá.\n",
    "# Para isso, usamos uma função especial chamada __init__ \n",
    "# (explicaremos melhor sobre funções/métodos especiais em tópicos futuros).\n",
    "# O __init__ é automaticamente executado sempre que criamos um novo carro a partir da nossa classe.\n",
    "# Ele é responsável por inicializar o carro com as informações que fornecemos,\n",
    "# ou seja, atribui os valores passados como parâmetros (marca, modelo, ano, cor)\n",
    "# às características específicas do carro, definindo seus atributos iniciais.\n",
    "\n",
    "class Carro:\n",
    "    def __init__(self, marca, modelo, ano, cor):\n",
    "        # Observação importante:\n",
    "        # O parâmetro 'self' representa o próprio carro que está sendo criado.\n",
    "        # Ele é usado para acessar e definir as características (atributos) do carro,\n",
    "        # associando os valores que passamos como parâmetros (marca, modelo, ano, cor)\n",
    "        # às propriedades permanentes do carro (como self.marca, self.modelo, etc.).\n",
    "        \n",
    "        self.marca = marca       # 'self.marca' é o atributo do carro, ou seja, a marca que será armazenada no carro.\n",
    "                                 # 'marca' (sem o self) é o valor que passamos quando criamos o carro.\n",
    "                                 # Exemplo: se criarmos Carro(\"Toyota\", \"Corolla\", 2020, \"Vermelho\"),\n",
    "                                 # o valor \"Toyota\" será armazenado em self.marca.\n",
    "                                 \n",
    "        self.modelo = modelo     # 'self.modelo' é o atributo que guarda o modelo do carro.\n",
    "                                 # 'modelo' é o valor passado quando o carro é criado.\n",
    "                                 # Exemplo: \"Corolla\" será armazenado em self.modelo.\n",
    "                                 \n",
    "        self.ano = ano           # 'self.ano' é o atributo que representa o ano de fabricação do carro.\n",
    "                                 # 'ano' é o valor passado na criação do carro.\n",
    "                                 # Exemplo: 2020 será armazenado em self.ano.\n",
    "                                 \n",
    "        self.cor = cor           # 'self.cor' é o atributo que guarda a cor do carro.\n",
    "                                 # 'cor' é o valor fornecido ao criar o carro.\n",
    "                                 # Exemplo: \"Vermelho\" será armazenado em self.cor."
   ]
  },
  {
   "cell_type": "markdown",
   "metadata": {},
   "source": [
    "### **Métodos**"
   ]
  },
  {
   "cell_type": "markdown",
   "metadata": {},
   "source": [
    "#### **Definição intuitiva**"
   ]
  },
  {
   "cell_type": "markdown",
   "metadata": {},
   "source": [
    "Agora que sabemos que uma classe é um projeto e que os atributos são as características desse projeto, **podemos pensar nos métodos como as ações ou comportamentos que algo criado a partir da classe pode realizar**.\n",
    "\n",
    "Exemplo intuitivo:\n",
    "Voltando ao exemplo da casa, imagine que o projeto não define apenas as características (como o número de quartos), mas também o que a casa pode fazer, como:\n",
    "\n",
    "- Abrir portas\n",
    "- Acender luzes\n",
    "- Trancar janelas\n",
    "\n",
    "**Essas ações são os métodos da casa. Cada casa construída a partir do projeto pode realizar essas ações.**\n"
   ]
  },
  {
   "cell_type": "markdown",
   "metadata": {},
   "source": [
    "#### **Métodos na programação**"
   ]
  },
  {
   "cell_type": "markdown",
   "metadata": {},
   "source": [
    "**Na programação, métodos são funções associadas a uma classe. Eles definem o que os objetos (que são criados a partir da classe) podem fazer**.\n",
    "\n",
    "Se criarmos uma classe Carro, podemos definir métodos como:\n",
    "\n",
    "- acelerar() – para aumentar a velocidade do carro.\n",
    "- frear() – para reduzir a velocidade.\n",
    "- buzinar() – para emitir um som de buzina.\n",
    "  \n",
    "**Os métodos usam ou modificam os atributos do carro**. Por exemplo, o método acelerar() pode aumentar o valor do atributo velocidade atual."
   ]
  },
  {
   "cell_type": "markdown",
   "metadata": {},
   "source": [
    "#### **Exemplo prático**"
   ]
  },
  {
   "cell_type": "code",
   "execution_count": 147,
   "metadata": {},
   "outputs": [],
   "source": [
    "# 3. Adicionando Comportamentos (criando métodos)\n",
    "\n",
    "# Agora vamos adicionar comportamentos que o carro pode realizar.\n",
    "# Para isso, criaremos métodos, que são funções definidas dentro da classe.\n",
    "# Esses métodos descrevem ações específicas que o carro pode executar, como acelerar, frear ou buzinar.\n",
    "# Com isso, o carro deixa de ser apenas um conjunto de informações (atributos) e passa a interagir com o ambiente,\n",
    "# simulando comportamentos do mundo real.\n",
    "\n",
    "class Carro:\n",
    "    def __init__(self, marca, modelo, ano, cor):\n",
    "        self.marca = marca\n",
    "        self.modelo = modelo\n",
    "        self.ano = ano\n",
    "        self.cor = cor\n",
    "        self.velocidade = 0  # Começamos com o carro parado\n",
    "\n",
    "    def acelerar(self, incremento):\n",
    "        # O método acelerar aumenta o valor do atributo 'velocidade' do carro.\n",
    "        # O parâmetro 'incremento' define o quanto a velocidade deve aumentar.\n",
    "        # Por exemplo, se o carro estiver a 20 km/h e o incremento for 10, \n",
    "        # a nova velocidade será 30 km/h.\n",
    "        \n",
    "        self.velocidade += incremento\n",
    "        print(f\"O carro acelerou para {self.velocidade} km/h.\")\n",
    "\n",
    "    def frear(self, decremento):\n",
    "        # O método frear reduz o valor do atributo 'velocidade' do carro.\n",
    "        # O parâmetro 'decremento' define o quanto a velocidade deve diminuir.\n",
    "        # Por exemplo, se o carro estiver a 30 km/h e o decremento for 10, \n",
    "        # a nova velocidade será 20 km/h. Se tentar reduzir mais do que a velocidade atual,\n",
    "        # a velocidade será ajustada para 0 km/h.\n",
    "        \n",
    "        self.velocidade = max(0, self.velocidade - decremento) # A função max(0, ...) garante que a velocidade nunca será negativa.\n",
    "        print(f\"O carro desacelerou para {self.velocidade} km/h.\")\n",
    "\n",
    "    def buzinar(self):\n",
    "        # O método buzinar simula o som da buzina do carro.\n",
    "        # Quando chamado, ele simplesmente imprime \"Bii Bii!\".\n",
    "        \n",
    "        print(\"Bii Bii!\")"
   ]
  },
  {
   "cell_type": "markdown",
   "metadata": {},
   "source": [
    "#### **Métodos especiais**"
   ]
  },
  {
   "cell_type": "markdown",
   "metadata": {},
   "source": [
    "##### **Definição intuitiva**"
   ]
  },
  {
   "cell_type": "markdown",
   "metadata": {},
   "source": [
    "Agora que sabemos o que são métodos (as ações que um objeto pode realizar), podemos falar sobre os métodos especiais.\n",
    "\n",
    "**Os métodos especiais são ações especiais que a linguagem de programação já reconhece automaticamente**. Em Python, esses métodos têm uma nomenclatura distinta: começam e terminam com dois underlines (por exemplo, __init__). Os mais comuns são:\n",
    "\n",
    "- __init__ – Método de inicialização (construtor):\n",
    "\n",
    "        O __init__ é chamado automaticamente quando criamos uma instância da classe. Ele é conhecido como construtor porque sua função essencial é construir o objeto, ou seja, definir seus atributos iniciais e garantir que o objeto (conceito que exploraremos em breve) esteja pronto para uso.\n",
    "\n",
    "        Em termos simples, construtores configuram o estado inicial do objeto, estabelecendo os valores dos atributos que o definem. Por exemplo, ao criar um carro, o construtor define sua marca, modelo, ano e cor. Sem o construtor, o objeto seria criado, mas não teria características definidas.\n",
    "\n",
    "- __str__ – Método de representação textual:\n",
    "\n",
    "        Define como o objeto será exibido quando usarmos a função print(). Esse método retorna uma descrição legível do objeto, facilitando a visualização de suas informações."
   ]
  },
  {
   "cell_type": "markdown",
   "metadata": {},
   "source": [
    "##### **Exemplo prático**"
   ]
  },
  {
   "cell_type": "code",
   "execution_count": 148,
   "metadata": {},
   "outputs": [],
   "source": [
    "# 3. Adicionando Comportamentos Especiais (criando métodos especiais)\n",
    "\n",
    "# Agora vamos adicionar um comportamento especial com o método __str__, que define como o objeto será representado como texto.\n",
    "# Também vamos destacar novamente o papel do método especial __init__, responsável por inicializar o objeto.\n",
    "\n",
    "class Carro:\n",
    "    def __init__(self, marca, modelo, ano, cor):\n",
    "        # O método __init__ é um método especial, também conhecido como construtor, e é chamado automaticamente \n",
    "        # sempre que criamos uma nova instância da classe Carro (iremos explorar o conceito de instância em breve).\n",
    "        # Construtores, como o __init__, têm a função de inicializar o objeto, configurando seus atributos iniciais.\n",
    "        # Neste caso, o carro é inicializado com as informações fornecidas: marca, modelo, ano, cor e velocidade.\n",
    "        \n",
    "        self.marca = marca\n",
    "        self.modelo = modelo\n",
    "        self.ano = ano\n",
    "        self.cor = cor\n",
    "        self.velocidade = 0\n",
    "\n",
    "    def acelerar(self, incremento):\n",
    "        self.velocidade += incremento\n",
    "        print(f\"O carro acelerou para {self.velocidade} km/h.\")\n",
    "\n",
    "    def frear(self, decremento):\n",
    "        self.velocidade = max(0, self.velocidade - decremento)\n",
    "        print(f\"O carro desacelerou para {self.velocidade} km/h.\")\n",
    "\n",
    "    def buzinar(self):\n",
    "        print(\"Bii Bii!\")\n",
    "\n",
    "    def __str__(self):\n",
    "        # O método __str__ é chamado automaticamente quando usamos a função print() em um objeto Carro.\n",
    "        # Ele retorna uma string que descreve o carro de forma legível, incluindo marca, modelo, ano, cor e velocidade atual.\n",
    "        \n",
    "        return f\"{self.marca} {self.modelo} ({self.ano}), cor {self.cor}, velocidade atual: {self.velocidade} km/h\"\n"
   ]
  },
  {
   "cell_type": "markdown",
   "metadata": {},
   "source": [
    "### **Objetos**"
   ]
  },
  {
   "cell_type": "markdown",
   "metadata": {},
   "source": [
    "#### **Definição intuitiva**"
   ]
  },
  {
   "cell_type": "markdown",
   "metadata": {},
   "source": [
    "Agora que sabemos o que é uma classe (projeto), o que são atributos (características) e o que são métodos (ações), podemos entender o que é um objeto.\n",
    "\n",
    "**Um objeto é um elemento concreto criado a partir da classe (projeto)**. Ele tem atributos definidos e é capaz de realizar ações (métodos).\n",
    "\n",
    "Exemplo intuitivo:\n",
    "**Se a classe é o projeto da casa, o objeto é a casa real construída a partir desse projeto.**\n",
    "\n",
    "Por exemplo:\n",
    "\n",
    "- Casa 1: 3 quartos, paredes azuis, janelas grandes.\n",
    "- Casa 2: 4 quartos, paredes brancas, janelas pequenas.\n",
    "  \n",
    "**Cada casa é um objeto que tem suas próprias características (atributos) e pode realizar ações (métodos), como abrir portas ou acender luzes.**"
   ]
  },
  {
   "cell_type": "markdown",
   "metadata": {},
   "source": [
    "#### **Instância de uma classe**"
   ]
  },
  {
   "cell_type": "markdown",
   "metadata": {},
   "source": [
    "\n",
    "**Uma instância é um termo técnico usado para descrever um objeto criado a partir de uma classe.**\n",
    "\n",
    "Imagine que você tem o projeto de uma casa. Esse projeto descreve como a casa deve ser: quantos quartos, o tamanho da sala, a cor das paredes, etc. Quando você usa esse projeto para construir uma casa real, essa casa é algo concreto. Cada casa construída a partir desse mesmo projeto é única, mas todas seguem a mesma estrutura.\n",
    "\n",
    "Na programação, acontece o mesmo: a classe é o projeto que define as características e comportamentos de algo. Quando criamos algo com base nesse projeto, temos um objeto. Cada objeto criado é uma instância única desse projeto, com suas próprias características. \n",
    "\n",
    "Por exemplo, com a classe Carro, podemos criar carro1 e carro2, cada um representando uma instância individual (ou seja, um objeto único criado a partir da classe), com sua própria marca, modelo e cor.\n"
   ]
  },
  {
   "cell_type": "markdown",
   "metadata": {},
   "source": [
    "#### **Objetos na programação**"
   ]
  },
  {
   "cell_type": "markdown",
   "metadata": {},
   "source": [
    "**Na programação, um objeto é uma instância da classe, ou seja, um exemplo específico da estrutura que definimos.**\n",
    "\n",
    "Exemplo prático:\n",
    "\n",
    "Quando criarmos um carro específico no nosso programa, utilizando a classe Carro que estamos desenvolvendo, faremos algo assim:\n",
    "\n",
    "```python\n",
    "meu_carro = Carro(\"Toyota\", \"Corolla\", 2020, \"vermelho\")\n",
    "```\n",
    "\n",
    "Esse meu_carro é um objeto da classe Carro, ou seja, uma instância da classe Carro. Ele tem:\n",
    "\n",
    "Atributos:\n",
    "\n",
    "- marca = Toyota\n",
    "- modelo = Corolla\n",
    "- ano = 2020\n",
    "- cor = vermelho\n",
    "\n",
    "Métodos que ele pode realizar:\n",
    "\n",
    "- meu_carro.acelerar() – aumenta a velocidade.\n",
    "- meu_carro.frear() – diminui a velocidade.\n",
    "- meu_carro.buzinar() – toca a buzina.\n",
    "\n",
    "Cada objeto criado a partir da classe Carro representa uma instância individual, com atributos próprios e capaz de realizar as ações definidas nos métodos da classe."
   ]
  },
  {
   "cell_type": "markdown",
   "metadata": {},
   "source": [
    "#### **Exemplo prático**"
   ]
  },
  {
   "cell_type": "code",
   "execution_count": 150,
   "metadata": {},
   "outputs": [
    {
     "name": "stdout",
     "output_type": "stream",
     "text": [
      "O carro acelerou para 30 km/h.\n",
      "Velocidade atual do meu_carro: 30 km/h\n",
      "Bii Bii!\n",
      "O carro desacelerou para 20 km/h.\n",
      "Velocidade atual do meu_carro após frear: 20 km/h\n",
      "\n",
      "------------------------------------\n",
      "\n",
      "O carro acelerou para 50 km/h.\n",
      "Velocidade atual do carro_azul: 50 km/h\n",
      "Bii Bii!\n",
      "O carro desacelerou para 30 km/h.\n",
      "Velocidade atual do carro_azul após frear: 30 km/h\n",
      "O Toyota Corolla é da cor Vermelho e foi fabricado em 2020.\n",
      "O Ford Focus é da cor Azul e foi fabricado em 2018.\n",
      "O Honda Civic é da cor Preto e foi fabricado em 2022.\n",
      "Ford Focus (2018), cor Azul, velocidade atual: 30 km/h\n"
     ]
    }
   ],
   "source": [
    "# 4. Criando um Objeto\n",
    "\n",
    "# Agora que temos a classe Carro pronta, com seus atributos e métodos definidos, vamos criar um objeto do tipo Carro.\n",
    "# Esse objeto é uma instância da classe Carro, representando um carro específico com características definidas.\n",
    "\n",
    "# Criando uma instância da classe Carro com marca Toyota, modelo Corolla, ano 2020 e cor Vermelho.\n",
    "meu_carro = Carro(\"Toyota\", \"Corolla\", 2020, \"Vermelho\")  \n",
    "\n",
    "# Agora vamos utilizar os métodos da classe para ver o comportamento desse objeto em ação:\n",
    "meu_carro.acelerar(30)  # Acelera o carro para 30 km/h.\n",
    "print(f\"Velocidade atual do meu_carro: {meu_carro.velocidade} km/h\")  # Exibe a velocidade atual após acelerar.\n",
    "\n",
    "meu_carro.buzinar()     # O carro emite o som da buzina: \"Bii Bii!\".\n",
    "\n",
    "meu_carro.frear(10)     # Reduz a velocidade do carro para 20 km/h.\n",
    "print(f\"Velocidade atual do meu_carro após frear: {meu_carro.velocidade} km/h\")  # Exibe a velocidade após frear.\n",
    "\n",
    "print(\"\\n------------------------------------\\n\")\n",
    "\n",
    "# Podemos criar várias outras instâncias da classe Carro, cada uma representando um carro diferente:\n",
    "carro_azul = Carro(\"Ford\", \"Focus\", 2018, \"Azul\")\n",
    "carro_preto = Carro(\"Honda\", \"Civic\", 2022, \"Preto\")\n",
    "\n",
    "# Cada instância tem seus próprios atributos e pode executar os mesmos métodos de forma independente:\n",
    "carro_azul.acelerar(50)  # O carro azul acelera para 50 km/h.\n",
    "print(f\"Velocidade atual do carro_azul: {carro_azul.velocidade} km/h\")  # Exibe a velocidade atual do carro azul.\n",
    "\n",
    "carro_preto.buzinar()    # O carro preto buzina: \"Bii Bii!\".\n",
    "\n",
    "carro_azul.frear(20)     # O carro azul reduz a velocidade para 30 km/h.\n",
    "print(f\"Velocidade atual do carro_azul após frear: {carro_azul.velocidade} km/h\")  # Exibe a velocidade após frear.\n",
    "\n",
    "# Para acessar os atributos dos objetos, basta referenciar o atributo desejado:\n",
    "print(f\"O {meu_carro.marca} {meu_carro.modelo} é da cor {meu_carro.cor} e foi fabricado em {meu_carro.ano}.\")\n",
    "print(f\"O {carro_azul.marca} {carro_azul.modelo} é da cor {carro_azul.cor} e foi fabricado em {carro_azul.ano}.\")\n",
    "print(f\"O {carro_preto.marca} {carro_preto.modelo} é da cor {carro_preto.cor} e foi fabricado em {carro_preto.ano}.\")\n",
    "\n",
    "print(carro_azul)\n"
   ]
  },
  {
   "cell_type": "markdown",
   "metadata": {},
   "source": [
    "### **Exercício: Simulando uma Carteira de Investimentos**"
   ]
  },
  {
   "cell_type": "markdown",
   "metadata": {},
   "source": [
    "Imagine que você é responsável por desenvolver um sistema simples de controle de investimentos para um investidor iniciante. Esse sistema precisa acompanhar diferentes ativos, como ações e títulos de renda fixa, calculando o valor atual de cada ativo e o retorno obtido."
   ]
  },
  {
   "cell_type": "markdown",
   "metadata": {},
   "source": [
    "#### **Parte 1: Criando a Classe AtivoFinanceiro**"
   ]
  },
  {
   "cell_type": "markdown",
   "metadata": {},
   "source": [
    "1. Crie uma classe chamada AtivoFinanceiro com os seguintes **atributos**:\n",
    "\n",
    "   - **nome**: Nome do ativo (ex: \"Ação Petrobras\").\n",
    "   - **valor_investido**: Valor inicial investido no ativo.\n",
    "   - **valor_atual**: Valor atual do ativo."
   ]
  },
  {
   "cell_type": "markdown",
   "metadata": {},
   "source": [
    "2. Atualize o código acima criando métodos para:\n",
    "\n",
    "   - Atualizar o valor atual do ativo.\n",
    "   - Calcular o retorno percentual do ativo: \n",
    "    \n",
    "        $Retorno \\ (\\%) = \\dfrac{Valor \\ atual - Valor \\ Investido}{Valor \\ Investido}*100$\n",
    "  "
   ]
  },
  {
   "cell_type": "markdown",
   "metadata": {},
   "source": [
    "#### **Parte 2: Criando Objetos e Testando a Classe**"
   ]
  },
  {
   "cell_type": "markdown",
   "metadata": {},
   "source": [
    "1. Utilizando a classe AtivoFinanceiro criada anteriormente, crie dois ativos financeiros distintos:\n",
    "\n",
    "   - Um ativo de renda variável (ex: \"Ação Itaú\", valor investido R$ 1000, valor atual R$ 1200).\n",
    "   - Um ativo de renda fixa (ex: \"Tesouro Direto\", valor investido R$ 2000, valor atual R$ 2050).\n",
    "\n",
    "2. Atualize o valor de um dos ativos.\n",
    "\n",
    "3. Calcule e imprima o retorno percentual de cada ativo."
   ]
  },
  {
   "cell_type": "markdown",
   "metadata": {},
   "source": [
    "#### **Exercício Extra 1**"
   ]
  },
  {
   "cell_type": "markdown",
   "metadata": {},
   "source": [
    "Personalize a classe AtivoFinanceiro para exibir informações detalhadas sobre o ativo quando o objeto for impresso.\n",
    "\n",
    "Ao utilizar o comando print() em um objeto da classe AtivoFinanceiro, ele deve mostrar:\n",
    "\n",
    "- Nome do Ativo\n",
    "- Valor Investido\n",
    "- Valor Atual\n",
    "- Retorno Percentual (lucro ou prejuízo em relação ao valor investido)\n",
    "  \n",
    "**Dica:**\n",
    "**Utilize o método especial __str__, que permite definir como o objeto será representado em formato de texto. Esse método é automaticamente chamado quando usamos print() no objeto.**"
   ]
  },
  {
   "cell_type": "code",
   "execution_count": 207,
   "metadata": {},
   "outputs": [],
   "source": [
    "class AtivoFinanceiro:\n",
    "    def __init__(self, nome, valor_investido, valor_atual):\n",
    "        self.nome = nome\n",
    "        self.valor_investido = valor_investido\n",
    "        self.valor_atual = valor_atual\n",
    "        self.retorno_operacao = (self.valor_atual - self.valor_investido)/self.valor_investido * 100  \n",
    "\n",
    "    def retorno_operacao(self):\n",
    "        return (self.valor_atual - self.valor_investido)/self.valor_investido * 100  \n",
    "\n",
    "    def atualizar_valor_atual(self, novo_valor_atual):\n",
    "        self.valor_atual = novo_valor_atual\n",
    "\n",
    "    def __str__(self):\n",
    "        return f'{self.nome}, o valor atual é {self.valor_atual}, e foi investido {self.valor_investido} reais. Logo, o retorno é de {self.retorno_operacao}%'"
   ]
  },
  {
   "cell_type": "markdown",
   "metadata": {},
   "source": [
    "#### **Parte 3: Criando uma Simples Carteira de Investimentos**"
   ]
  },
  {
   "cell_type": "markdown",
   "metadata": {},
   "source": [
    "Agora que você já criou ativos individuais, vamos criar uma Carteira de Investimentos.\n",
    "\n",
    "1. Crie uma classe chamada CarteiraInvestimentos.\n",
    "\n",
    "    - Essa classe deve ter um atributo ativo, que será uma lista de objetos do tipo AtivoFinanceiro.\n",
    "  \n",
    "2. Crie métodos para:\n",
    "   \n",
    "    - Adicionar um novo ativo à carteira.\n",
    "    - Calcular o valor total investido.\n",
    "    - Calcular o valor atual total.\n",
    "    - Calcular o retorno total da carteira."
   ]
  },
  {
   "cell_type": "code",
   "execution_count": 208,
   "metadata": {},
   "outputs": [],
   "source": [
    "# Seu código aqui\n",
    "\n",
    "class CarteiraInvestimentos:\n",
    "    def __init__(self):\n",
    "        self.lista_de_ativos = []\n",
    "\n",
    "    def adicionar_ativo(self, ativo):\n",
    "        if isinstance(ativo, AtivoFinanceiro):\n",
    "            self.lista_de_ativos.append(ativo)\n",
    "        else:\n",
    "            raise TypeError(\"O ativo deve ser uma instância de AtivoFinanceiro.\")\n",
    "\n",
    "    def calcular_valor_total_investido(self):\n",
    "        return (sum(ativo.valor_investido for ativo in self.lista_de_ativos))\n",
    "\n",
    "    def calcular_valor_total_atual(self):\n",
    "        return (sum(ativo.valor_atual for ativo in self.lista_de_ativos))\n",
    "    \n",
    "    def calcular_calcular_retorno_total(self):\n",
    "        return (sum(ativo.retorno_operacao for ativo in self.lista_de_ativos))"
   ]
  },
  {
   "cell_type": "markdown",
   "metadata": {},
   "source": [
    "#### **Exercício Extra 2**"
   ]
  },
  {
   "cell_type": "markdown",
   "metadata": {},
   "source": [
    "Personalize a classe CarteiraInvestimentos para exibir informações detalhadas sobre a carteira quando o objeto for impresso.\n",
    "\n",
    "Ao utilizar o comando print() em um objeto da classe CarteiraInvestimentos, ele deve mostrar:\n",
    "\n",
    "- Lista de todos os ativos financeiros na carteira, com seus respectivos detalhes (nome do ativo, valor investido, valor atual e retorno percentual).\n",
    "- Valor Total Investido na carteira.\n",
    "- Valor Atual Total da carteira.\n",
    "- Retorno Percentual Total (lucro ou prejuízo considerando todos os ativos da carteira).\n",
    "\n",
    "**Dica:**\n",
    "**Utilize o método especial __str__, que permite definir como o objeto será representado em formato de texto. Esse método é automaticamente chamado quando usamos print() no objeto.**"
   ]
  },
  {
   "cell_type": "code",
   "execution_count": null,
   "metadata": {},
   "outputs": [],
   "source": [
    "# Seu código aqui\n",
    "\n",
    "class CarteiraInvestimentos:\n",
    "    def __init__(self):\n",
    "        self.lista_de_ativos = []\n",
    "\n",
    "    def adicionar_ativo(self, ativo):\n",
    "        if isinstance(ativo, AtivoFinanceiro):\n",
    "            self.lista_de_ativos.append(ativo)\n",
    "        else:\n",
    "            raise TypeError(\"O ativo deve ser uma instância de AtivoFinanceiro.\")\n",
    "\n",
    "    def calcular_valor_total_investido(self):\n",
    "        return (sum(ativo.valor_investido for ativo in self.lista_de_ativos))\n",
    "\n",
    "    def calcular_valor_total_atual(self):\n",
    "        return (sum(ativo.valor_atual for ativo in self.lista_de_ativos))\n",
    "    \n",
    "    def calcular_calcular_retorno_total(self):\n",
    "        return (sum(ativo.retorno_operacao for ativo in self.lista_de_ativos))\n",
    "    \n",
    "    def listar_ativos(self):\n",
    "        for ativo in self.lista_de_ativos:\n",
    "            print(ativo)\n",
    "    \n",
    "    def __str__(self):\n",
    "        return f\"Ativos da carteira: {self.listar_ativos()}, Valor total investido na carteira: {self.calcular_valor_total_investido()}, o valor atual total da carteira: {self.calcular_valor_total_atual()},e o retorno percentual total (?) é de {self.calcular_calcular_retorno_total()}%\"\n",
    "    \n"
   ]
  },
  {
   "cell_type": "markdown",
   "metadata": {},
   "source": [
    "#### **Parte 4: Testando a Carteira**"
   ]
  },
  {
   "cell_type": "markdown",
   "metadata": {},
   "source": [
    "1. Crie uma carteira de investimentos utilizando a classe CarteiraInvestimentos desenvolvida no exercício anterior.\n",
    "\n",
    "   - Pense na carteira como um portfólio real, onde você gerencia diversos ativos financeiros.\n",
    "\n",
    "   \n",
    "2. Adicione à sua carteira os dois ativos financeiros que você criou anteriormente.\n",
    "   - Inclua tanto a ação da empresa quanto o ativo de renda fixa para observar como diferentes tipos de investimentos impactam o desempenho da carteira.\n",
    "\n",
    "   \n",
    "3. Calcule e imprima os seguintes resultados:\n",
    "    - Valor Total Investido: A soma do valor inicial aplicado em todos os ativos.\n",
    "    - Valor Atual Total: O valor atual combinado de todos os ativos após as atualizações de mercado.\n",
    "    - Retorno Total da Carteira: O percentual de lucro ou prejuízo da carteira como um todo.\n",
    "\n",
    "**Dica: Use o método __str__ que você implementou para exibir os detalhes da carteira de forma clara e organizada. Isso simula um relatório financeiro, como aqueles que investidores e gestores recebem periodicamente!**"
   ]
  },
  {
   "cell_type": "code",
   "execution_count": 244,
   "metadata": {},
   "outputs": [
    {
     "name": "stdout",
     "output_type": "stream",
     "text": [
      "BTC, o valor atual é 1000, e foi investido 1500 reais. Logo, o retorno é de -33.33333333333333%\n",
      "Tesouro direto, o valor atual é 750, e foi investido 500 reais. Logo, o retorno é de 50.0%\n",
      "Ativos da carteira: None, Valor total investido na carteira: 2000, o valor atual total da carteira: 1750,e o retorno percentual total (?) é de 16.66666666666667%\n"
     ]
    }
   ],
   "source": [
    "# Seu código aqui\n",
    "\n",
    "renda_variavel = CarteiraInvestimentos()\n",
    "\n",
    "BTC = AtivoFinanceiro(\"BTC\", 1500, 1000)\n",
    "NVDA = AtivoFinanceiro(\"Tesouro direto\", 500, 750)\n",
    "\n",
    "renda_variavel.adicionar_ativo(BTC)\n",
    "renda_variavel.adicionar_ativo(NVDA)\n",
    "\n",
    "print(renda_variavel)"
   ]
  },
  {
   "cell_type": "markdown",
   "metadata": {
    "vscode": {
     "languageId": "plaintext"
    }
   },
   "source": [
    "# **Módulo 2 - Avançando em Programação Orientada a Objetos**"
   ]
  },
  {
   "cell_type": "markdown",
   "metadata": {},
   "source": [
    "## **2.1 - Os 4 Conceitos Fundamentais da Programação Orientada a Objetos**"
   ]
  },
  {
   "cell_type": "markdown",
   "metadata": {},
   "source": [
    "### **Abstração**"
   ]
  },
  {
   "cell_type": "markdown",
   "metadata": {},
   "source": [
    "#### **Definição intuitiva**\n",
    "\n",
    "**Abstração é o processo de esconder detalhes desnecessários e mostrar apenas o que é essencial**.\n",
    "\n",
    "Imagine um carro. Quando você dirige, não precisa saber exatamente como o motor funciona internamente, quais circuitos elétricos estão ativados ou como o combustível é processado. Você apenas interage com o carro por meio do volante, pedais e painel de controle. Ou seja, você se preocupa apenas com o que é necessário para dirigir. **Isso é abstração: mostrar apenas as informações relevantes e ocultar os detalhes internos**."
   ]
  },
  {
   "cell_type": "markdown",
   "metadata": {},
   "source": [
    "#### **Abstração na programação**\n",
    "\n",
    "Na programação, a abstração funciona da mesma forma. Criamos classes que representam conceitos do mundo real, mas **escondemos os detalhes internos de implementação e mostramos apenas o necessário para quem usa a classe**.\n",
    "\n",
    "**Por exemplo, podemos ter uma classe OrdemDeCompra que permite um investidor comprar ações, sem precisar expor os detalhes de como a ordem é processada na bolsa de valores**."
   ]
  },
  {
   "cell_type": "code",
   "execution_count": 245,
   "metadata": {},
   "outputs": [
    {
     "name": "stdout",
     "output_type": "stream",
     "text": [
      "Enviando ordem de compra: 100 ações de PETR4 a R$ 32.50\n"
     ]
    }
   ],
   "source": [
    "class OrdemDeCompra:\n",
    "    def __init__(self, ativo, quantidade, preco):\n",
    "        self.ativo = ativo\n",
    "        self.quantidade = quantidade\n",
    "        self.preco = preco\n",
    "\n",
    "    def executar(self):\n",
    "        print(f\"Enviando ordem de compra: {self.quantidade} ações de {self.ativo} a R$ {self.preco:.2f}\")\n",
    "\n",
    "# Criando uma ordem de compra\n",
    "ordem = OrdemDeCompra(\"PETR4\", 100, 32.50)\n",
    "ordem.executar()  # Saída esperada: \"Enviando ordem de compra: 100 ações de PETR4 a R$ 32.50\""
   ]
  },
  {
   "cell_type": "markdown",
   "metadata": {},
   "source": [
    "**Aqui, a abstração permite que o usuário envie ordens de compra sem precisar saber como a ordem é roteada para o mercado, como os custos são calculados ou como os dados são armazenados. A classe esconde esses detalhes e expõe apenas o necessário para operar.**\n",
    "\n",
    "*Vale destacar que, no exemplo acima, o processo de emissão da ordem de compra não foi efetivamente implementado. O objetivo é apenas ilustrar o conceito de abstração. Mesmo que a lógica real de envio de ordens fosse adicionada, a maneira como o usuário interage com a classe permaneceria a mesma — bastaria chamar o método executar(), sem precisar se preocupar com os detalhes internos. Essa é a essência da abstração na POO.*"
   ]
  },
  {
   "cell_type": "markdown",
   "metadata": {},
   "source": [
    "### **Encapsulamento**"
   ]
  },
  {
   "cell_type": "markdown",
   "metadata": {},
   "source": [
    "#### **Definição intuitiva**\n",
    "\n",
    "**Encapsulamento significa proteger os dados de acesso indevido e garantir que eles só possam ser modificados de maneira controlada**.\n",
    "\n",
    "Pense em um cofre de banco. Você não pode simplesmente abrir e pegar o dinheiro sem passar pelos procedimentos adequados. Você precisa de uma chave ou senha para acessar o conteúdo.\n",
    "\n",
    "**No mundo da programação, o encapsulamento funciona de maneira semelhante: os atributos e métodos de um objeto podem ser protegidos para que só possam ser acessados ou modificados de maneira controlada**."
   ]
  },
  {
   "cell_type": "markdown",
   "metadata": {},
   "source": [
    "#### **Encapsulamento na programação**\n",
    "\n",
    "Em programação, usamos modificadores de acesso para restringir o acesso direto a certos atributos e métodos de uma classe. **Em Python, seguimos uma convenção para diferenciar atributos e métodos públicos, protegidos e privados.**\n",
    "\n",
    "Métodos e atributos públicos, protegidos e privados em Python:\n",
    "- Públicos: Podem ser acessados diretamente de fora da classe.\n",
    "  \n",
    "- Protegidos (_atributo | _método): Devem ser tratados como internos à classe, mas ainda podem ser acessados fora dela (por convenção, não por restrição técnica).\n",
    "  \n",
    "- Privados (__atributo | __método): Não podem ser acessados diretamente de fora da classe, pois o Python aplica uma modificação de nome (name mangling).\n",
    "\n"
   ]
  },
  {
   "cell_type": "code",
   "execution_count": 246,
   "metadata": {},
   "outputs": [
    {
     "name": "stdout",
     "output_type": "stream",
     "text": [
      "1000\n",
      "800\n",
      "800\n",
      "1234\n"
     ]
    }
   ],
   "source": [
    "class ContaBancaria:\n",
    "    def __init__(self, titular, saldo):\n",
    "        self.titular = titular   # Atributo público\n",
    "        self._saldo = saldo      # Atributo protegido (_atributo)\n",
    "        self.__senha = \"1234\"    # Atributo privado (__atributo)\n",
    "\n",
    "    def depositar(self, valor):  # Método público\n",
    "        self._saldo += valor\n",
    "\n",
    "    def sacar(self, valor):  # Método público\n",
    "        if valor <= self._saldo:\n",
    "            self._saldo -= valor\n",
    "        else:\n",
    "            print(\"Saldo insuficiente\")\n",
    "\n",
    "    def get_saldo(self):  # Método público \n",
    "        return self._saldo  \n",
    "\n",
    "    def __verificar_senha(self, senha):  # Método privado (__método)\n",
    "        return senha == self.__senha  \n",
    "\n",
    "# Criando um objeto da classe ContaBancaria\n",
    "minha_conta = ContaBancaria(\"Gabriel\", 1000)\n",
    "\n",
    "# Acessando métodos públicos\n",
    "print(minha_conta.get_saldo())  # Saída esperada: 1000\n",
    "minha_conta.sacar(200)\n",
    "print(minha_conta.get_saldo())  # Saída esperada: 800\n",
    "\n",
    "# Tentando acessar um atributo protegido (possível, mas não recomendado)\n",
    "print(minha_conta._saldo)  # Saída esperada: 800\n",
    "\n",
    "# Tentando acessar um atributo privado (não pode ser acessado diretamente)\n",
    "# print(minha_conta.__senha)  # Isso geraria um erro!\n",
    "# Porém, devido ao name mangling, podemos acessar manualmente (NÃO RECOMENDADO)\n",
    "print(minha_conta._ContaBancaria__senha)  # Saída esperada: 1234"
   ]
  },
  {
   "cell_type": "markdown",
   "metadata": {},
   "source": [
    "#### **Observação**\n",
    "\n",
    "**Em Python, não existe efetivamente o conceito de atributos privados e protegidos como em linguagens como Java e C++.**\n",
    "\n",
    "Isso acontece porque Python segue a filosofia de \"somos todos adultos aqui\" (We are all consenting adults here). Ou seja, em vez de impor restrições rígidas, Python confia que os desenvolvedores seguirão as convenções estabelecidas.\n",
    "\n",
    "Por exemplo:\n",
    "\n",
    "- Atributos protegidos (_atributo) **não são realmente protegidos** — é apenas uma convenção para indicar que devem ser tratados como internos à classe.\n",
    "  \n",
    "- Atributos privados (__atributo) também **não são verdadeiramente inacessíveis**, pois Python apenas renomeia (name mangling) o atributo, tornando-o acessível por _Classe__atributo.\n",
    "\n",
    "**Imagine um cofre com um aviso escrito: \"Favor não abrir sem permissão.\" O cofre está trancado? Não. Mas o aviso deixa claro que você não deveria mexer nele. O encapsulamento em Python funciona da mesma forma: o acesso aos dados não é bloqueado, mas há indicações claras de que certos atributos não devem ser modificados diretamente.**"
   ]
  },
  {
   "cell_type": "markdown",
   "metadata": {},
   "source": [
    "### **Herança**"
   ]
  },
  {
   "cell_type": "markdown",
   "metadata": {},
   "source": [
    "#### **Definição intuitiva**\n",
    "\n",
    "**Herança permite criar novas classes a partir de classes existentes**, aproveitando e reutilizando código.\n",
    "\n",
    "Imagine que uma empresa tem diferentes tipos de funcionários: estagiários, analistas e gerentes. Todos compartilham algumas características básicas, como nome e salário, mas têm responsabilidades diferentes. **Em vez de criar classes separadas do zero, podemos definir uma classe geral Funcionario e fazer com que Estagiario, Analista e Gerente herdem suas características básicas, adicionando apenas os detalhes específicos de cada um**."
   ]
  },
  {
   "cell_type": "markdown",
   "metadata": {},
   "source": [
    "#### **Herança na programação**\n",
    "\n",
    "**Na programação, a herança permite que uma classe filha (subclasse) herde atributos e métodos de uma classe pai (superclasse). Isso evita duplicação de código e facilita a manutenção.**"
   ]
  },
  {
   "cell_type": "code",
   "execution_count": 247,
   "metadata": {},
   "outputs": [
    {
     "name": "stdout",
     "output_type": "stream",
     "text": [
      "Nome: Ana, Salário: R$ 5000\n",
      "Área: TI\n"
     ]
    }
   ],
   "source": [
    "# Definição da classe pai (superclasse)\n",
    "class Funcionario:\n",
    "    def __init__(self, nome, salario):     \n",
    "        self.nome = nome\n",
    "        self.salario = salario\n",
    "\n",
    "    def exibir_dados(self):\n",
    "        print(f\"Nome: {self.nome}, Salário: R$ {self.salario}\")\n",
    "\n",
    "# Definição da classe filho (subclasse) \n",
    "class Analista(Funcionario): # A sintaxe \"class Analista(Funcionario)\" indica que a subclasse Analista\n",
    "                             # herda os atributos e métodos da superclasse Funcionario\n",
    "                             \n",
    "    def __init__(self, nome, salario, area):\n",
    "        \"\"\"\n",
    "            O método __init__ da subclasse chama o __init__ da superclasse usando super().\n",
    "            Isso evita a necessidade de reescrever a inicialização dos atributos nome e salario.\n",
    "        \"\"\"\n",
    "        \n",
    "        super().__init__(nome, salario)  # Chama o construtor da superclasse Funcionario\n",
    "        self.area = area  # Adiciona um novo atributo exclusivo da subclasse\n",
    "\n",
    "    def exibir_dados(self):\n",
    "        \"\"\"\n",
    "            O método exibir_dados da subclasse reutiliza o método de mesmo nome da superclasse.\n",
    "            Primeiro, chama super().exibir_dados(), que exibe nome e salário. Depois, adiciona \n",
    "            a exibição da área específica do Analista.\n",
    "        \"\"\"\n",
    "        \n",
    "        super().exibir_dados()  # Chama o método exibir_dados() da superclasse\n",
    "        print(f\"Área: {self.area}\")  # Adiciona a nova informação exclusiva da subclasse\n",
    "\n",
    "# Criando um objeto da classe Analista\n",
    "ana = Analista(\"Ana\", 5000, \"TI\")\n",
    "\n",
    "# Chamando o método exibir_dados()\n",
    "ana.exibir_dados()\n",
    "\n",
    "# Saída esperada:\n",
    "# Nome: Ana, Salário: R$ 5000\n",
    "# Área: TI\n",
    "\n",
    "# No exemplo acima, a classe Analista herda os atributos e métodos da classe Funcionario, \n",
    "# o que permite reutilizar a funcionalidade já definida. No entanto, ela tem a flexibilidade \n",
    "# de adicionar novos atributos, como o \"area\", e personalizar comportamentos, como fizemos \n",
    "# ao sobrescrever o método \"exibir_dados()\", para adaptar o comportamento da classe filha às necessidades específicas."
   ]
  },
  {
   "cell_type": "markdown",
   "metadata": {},
   "source": [
    "#### **Em suma, o que significa herdar algo em POO?**\n",
    "\n",
    "**Quando uma classe herda de outra, ela automaticamente recebe os atributos e métodos da classe pai. Isso significa que podemos:**\n",
    "\n",
    "- **Criar objetos da subclasse e usar métodos da superclasse sem reimplementá-los**.\n",
    "\n",
    "- **Adicionar novos atributos e métodos específicos da subclasse**.\n",
    "\n",
    "- **Sobrescrever métodos para personalizar o comportamento da subclasse**.\n",
    "\n",
    "Por exemplo, Analista herdou exibir_dados() de Funcionario, mas sobrescreveu esse método para exibir também a área de atuação. *(Esse comportamento de sobrescrever métodos é um exemplo clássico de polimorfismo, que veremos com mais detalhes no próximo tópico)*"
   ]
  },
  {
   "cell_type": "markdown",
   "metadata": {},
   "source": [
    "### **Polimorfismo**"
   ]
  },
  {
   "cell_type": "markdown",
   "metadata": {},
   "source": [
    "#### **Definição intuitiva**\n",
    "\n",
    "**Polimorfismo significa 'muitas formas'. Esse conceito permite que classes relacionadas por herança tenham métodos com o mesmo nome, mas comportamentos diferentes.**\n",
    "\n",
    "Imagine que uma empresa tem vários tipos de funcionários: estagiários, analistas e gerentes. Todos recebem salário, mas de formas diferentes:\n",
    "\n",
    "- Estagiários recebem bolsa-auxílio.\n",
    "\n",
    "- Analistas recebem salário fixo.\n",
    "\n",
    "- Gerentes podem ter bônus adicionais.\n",
    "  \n",
    "Se quisermos calcular o pagamento de qualquer funcionário sem nos preocupar com o tipo específico dele, podemos usar o conceito de polimorfismo."
   ]
  },
  {
   "cell_type": "markdown",
   "metadata": {},
   "source": [
    "#### **Polimorfismo na programação**\n",
    "\n",
    "Na programação, polimorfismo permite que métodos com o mesmo nome tenham implementações diferentes em classes relacionadas por herança. Isso torna o código mais flexível e reutilizável.\n",
    "\n",
    "Vamos ver na prática:"
   ]
  },
  {
   "cell_type": "code",
   "execution_count": null,
   "metadata": {},
   "outputs": [
    {
     "name": "stdout",
     "output_type": "stream",
     "text": [
      "5000\n",
      "2000\n",
      "10000\n"
     ]
    }
   ],
   "source": [
    "# Definição da classe base (superclasse)\n",
    "class Funcionario:\n",
    "    def __init__(self, nome, salario):\n",
    "        \"\"\"\n",
    "            Inicializa os atributos nome e salario.\n",
    "        \"\"\"\n",
    "        \n",
    "        self.nome = nome\n",
    "        self.salario = salario\n",
    "\n",
    "    def calcular_pagamento(self):\n",
    "        \"\"\"\n",
    "            Retorna o salário do funcionário. Este método pode ser sobrescrito em subclasses.\n",
    "        \"\"\"\n",
    "        \n",
    "        return self.salario\n",
    "\n",
    "# Subclasse Estagiario herdando de Funcionario\n",
    "class Estagiario(Funcionario):\n",
    "    def __init__(self, nome, bolsa_auxilio):\n",
    "        \"\"\"\n",
    "            Chama o construtor da superclasse passando a bolsa_auxilio como salário.\n",
    "        \"\"\"\n",
    "        \n",
    "        super().__init__(nome, bolsa_auxilio)\n",
    "\n",
    "    def calcular_pagamento(self):\n",
    "        \"\"\"\n",
    "            Sobrescreve o método calcular_pagamento da superclasse.\n",
    "            Para estagiários, o pagamento é apenas a bolsa_auxilio (salario no contexto da superclasse).\n",
    "        \"\"\"\n",
    "        \n",
    "        return self.salario  \n",
    "\n",
    "# Subclasse Gerente herdando de Funcionario\n",
    "class Gerente(Funcionario):\n",
    "    def __init__(self, nome, salario, bonus):\n",
    "        \"\"\"\n",
    "            Chama o construtor da superclasse e adiciona o atributo bonus.\n",
    "        \"\"\"\n",
    "        \n",
    "        super().__init__(nome, salario) \n",
    "        self.bonus = bonus\n",
    "\n",
    "    def calcular_pagamento(self):\n",
    "        \"\"\"\n",
    "            Sobrescreve o método calcular_pagamento da superclasse.\n",
    "            Para gerentes, o pagamento inclui o salário e um bônus adicional.\n",
    "        \"\"\"\n",
    "        \n",
    "        return self.salario + self.bonus  \n",
    "\n",
    "# Criando objetos de diferentes classes\n",
    "funcionario1 = Funcionario(\"Carlos\", 5000)\n",
    "estagiario1 = Estagiario(\"Ana\", 2000)\n",
    "gerente1 = Gerente(\"Mariana\", 8000, 2000)\n",
    "\n",
    "# Chamando o mesmo método para diferentes tipos de funcionários\n",
    "print(funcionario1.calcular_pagamento())  # 5000\n",
    "print(estagiario1.calcular_pagamento())   # 2000\n",
    "print(gerente1.calcular_pagamento())      # 10000 (salário + bônus)\n",
    "\n",
    "# O que aconteceu aqui?\n",
    "# Mesmo que Funcionario, Estagiario e Gerente tenham o método calcular_pagamento(),\n",
    "# cada um se comporta de forma diferente. Isso é polimorfismo!"
   ]
  },
  {
   "cell_type": "markdown",
   "metadata": {},
   "source": [
    "#### **Em Resumo**\n",
    "\n",
    "- Polimorfismo permite que diferentes classes tenham métodos com o mesmo nome, mas comportamentos diferentes.\n",
    "  \n",
    "- Ele torna o código mais genérico e reutilizável, pois podemos tratar objetos de diferentes classes de forma uniforme."
   ]
  },
  {
   "cell_type": "markdown",
   "metadata": {},
   "source": [
    "# **Módulo 3 - Projeto Final, Curiosidades e Conclusões**"
   ]
  },
  {
   "cell_type": "markdown",
   "metadata": {
    "vscode": {
     "languageId": "plaintext"
    }
   },
   "source": [
    "## **Projeto Final**"
   ]
  },
  {
   "cell_type": "markdown",
   "metadata": {},
   "source": [
    "### **Contexto**"
   ]
  },
  {
   "cell_type": "markdown",
   "metadata": {},
   "source": [
    "#### **📊 O que é uma Estratégia Quantitativa?**"
   ]
  },
  {
   "cell_type": "markdown",
   "metadata": {},
   "source": [
    "Uma estratégia quantitativa é uma abordagem de investimento baseada em modelos matemáticos, estatísticos e computacionais para tomar decisões no mercado financeiro. Essas estratégias utilizam dados históricos e algoritmos para identificar padrões e executar operações de compra e venda de ativos de forma sistemática, reduzindo a influência de emoções humanas."
   ]
  },
  {
   "cell_type": "markdown",
   "metadata": {},
   "source": [
    "#### **🔍 O que é um Backtest e Por que Ele é Importante?**"
   ]
  },
  {
   "cell_type": "markdown",
   "metadata": {},
   "source": [
    "\n",
    "Um backtest é o processo de testar uma estratégia de investimento utilizando dados históricos para avaliar seu desempenho antes de aplicá-la no mercado real. Esse processo é essencial para entender como uma estratégia teria se comportado em diferentes cenários do passado."
   ]
  },
  {
   "cell_type": "markdown",
   "metadata": {},
   "source": [
    "#### **✅ Por que fazer um backtest?**"
   ]
  },
  {
   "cell_type": "markdown",
   "metadata": {},
   "source": [
    "Realizar um backtest oferece diversas vantagens que ajudam a tomar decisões mais informadas e seguras:\n",
    "\n",
    "✔ Permite testar uma estratégia sem arriscar dinheiro real.\n",
    "\n",
    "✔ Identifica pontos fortes e fracos do modelo antes da implementação.\n",
    "\n",
    "✔ Ajuda a ajustar parâmetros e melhorar a robustez da estratégia.\n",
    "\n",
    "✔ Evita decisões baseadas apenas em intuição, utilizando dados e evidências.\n",
    "\n",
    "Com esses benefícios em mente, é fundamental contar com ferramentas que tornem o processo de backtesting mais eficiente e preciso. É aqui que entra o **Backtrader**."
   ]
  },
  {
   "cell_type": "markdown",
   "metadata": {},
   "source": [
    "#### **🚀 Como o Backtrader Facilita o Backtest?**"
   ]
  },
  {
   "cell_type": "markdown",
   "metadata": {},
   "source": [
    "O Backtrader é uma biblioteca em Python projetada para automatizar o processo de backtesting, permitindo testar múltiplas estratégias com diferentes parâmetros de forma rápida e eficiente. Ele simplifica o trabalho de traders e analistas, tornando o desenvolvimento de estratégias quantitativas mais acessível.\n",
    "\n",
    "**Vantagens do Backtrader**:\n",
    "\n",
    "✔ Simulação realista → Gerencia a execução de ordens e a gestão de capital automaticamente.\n",
    "\n",
    "✔ Suporte a múltiplos ativos → Teste estratégias em diversas ações, moedas e commodities.\n",
    "\n",
    "✔ Indicadores embutidos → Inclui dezenas de indicadores como RSI, MACD e Médias Móveis.\n",
    "\n",
    "✔ Visualização gráfica → Permite gerar gráficos detalhados com o desempenho da estratégia.\n",
    "\n",
    "**Como essa biblioteca se relaciona com POO?**\n",
    "\n",
    "- Abstração → O usuário apenas interage com a API sem precisar entender os detalhes internos do funcionamento do backtesting.\n",
    "\n",
    "- Encapsulamento → Os dados do mercado e as regras de estratégia são protegidos e acessados apenas por métodos específicos.\n",
    "\n",
    "- Herança → Criamos novas estratégias herdando da classe base bt.Strategy, evitando repetição de código.\n",
    "\n",
    "- Polimorfismo → Diferentes estratégias podem ser implementadas, e todas interagem com o sistema de backtesting da mesma forma.\n",
    "\n",
    "Em suma, o Backtrader transforma o processo de criação e teste de estratégias quantitativas em algo mais fácil, rápido e confiável. Com ele, traders e analistas podem validar suas ideias com dados históricos, ajustá-las conforme necessário e aplicá-las no mercado real com muito mais confiança."
   ]
  },
  {
   "cell_type": "markdown",
   "metadata": {},
   "source": [
    "#### **🔧 Sobre o Backtrader**"
   ]
  },
  {
   "cell_type": "markdown",
   "metadata": {},
   "source": [
    "##### **1. bt.Strategy: A Classe Base das Estratégias**"
   ]
  },
  {
   "cell_type": "markdown",
   "metadata": {},
   "source": [
    "**O que é?**\n",
    "\n",
    "bt.Strategy é a classe base no Backtrader que define como criar estratégias de trading. Para implementar uma estratégia, você deve criar uma nova classe que herda dessa classe base.\n",
    "\n",
    "**Por que é importante?**\n",
    "\n",
    "Isso permite que você defina suas próprias regras de compra e venda, utilizando os métodos e atributos da classe base sem precisar reescrever toda a lógica do backtest."
   ]
  },
  {
   "cell_type": "markdown",
   "metadata": {},
   "source": [
    "##### **2. __init__: Inicializando a Estratégia**"
   ]
  },
  {
   "cell_type": "markdown",
   "metadata": {},
   "source": [
    "**O que é?**\n",
    "\n",
    "O método __init__ é usado para inicializar os atributos da sua estratégia, como indicadores técnicos (Médias Móveis, RSI, etc.). É aqui que você define o que será usado para tomar decisões.\n",
    "\n",
    "**Exemplo:**\n",
    "\n",
    "```python\n",
    "    def __init__(self):\n",
    "        # Inicializa dois indicadores de Média Móvel Simples (SMA).\n",
    "        \n",
    "        # Cria uma média móvel simples de curto prazo (10 períodos) usando o preço de fechamento dos dados fornecidos.\n",
    "        self.ma_short = bt.indicators.SimpleMovingAverage(self.data.close, period=10)\n",
    "        \n",
    "        # Cria uma média móvel simples de longo prazo (30 períodos) usando o preço de fechamento dos dados fornecidos.\n",
    "        self.ma_long = bt.indicators.SimpleMovingAverage(self.data.close, period=30)\n",
    "```"
   ]
  },
  {
   "cell_type": "markdown",
   "metadata": {},
   "source": [
    "##### **3. next: Definindo a Lógica da Estratégia**"
   ]
  },
  {
   "cell_type": "markdown",
   "metadata": {},
   "source": [
    "**O que é?**\n",
    "\n",
    "O método next é chamado a cada novo dado (cada candle diário, por exemplo). Aqui você define quando comprar ou vender com base nos seus indicadores.\n",
    "\n",
    "**Exemplo:**\n",
    "```python\n",
    "    def next(self):\n",
    "        if self.ma_short[0] > self.ma_long[0]:  # Se a média curta cruzar acima da longa\n",
    "            self.buy()  # Comprar\n",
    "        elif self.ma_short[0] < self.ma_long[0]:  # Se a média curta cruzar abaixo da longa\n",
    "            self.sell()  # Vender\n",
    "```"
   ]
  },
  {
   "cell_type": "markdown",
   "metadata": {},
   "source": [
    "##### **4. Cerebro: O Cérebro do Backtrader**"
   ]
  },
  {
   "cell_type": "markdown",
   "metadata": {},
   "source": [
    "**O que é?**\n",
    "Cerebro é o motor do Backtrader que executa o backtest. Ele gerencia a estratégia, os dados, a alocação de capital e gera os resultados.\n",
    "\n",
    "**Funções principais:**\n",
    "\n",
    "- Adicionar a estratégia: cerebro.addstrategy(SuaEstrategia)\n",
    "\n",
    "- Adicionar dados: cerebro.adddata(dados)\n",
    "\n",
    "- Executar o backtest: cerebro.run()\n",
    "\n",
    "- Plotar resultados: cerebro.plot()"
   ]
  },
  {
   "cell_type": "markdown",
   "metadata": {},
   "source": [
    "##### **5. Dados: Alimentando o Backtest**"
   ]
  },
  {
   "cell_type": "markdown",
   "metadata": {},
   "source": [
    "**O que é?**\n",
    "\n",
    "O Backtrader aceita diferentes fontes de dados, como arquivos CSV ou dados do Yahoo Finance.\n",
    "\n",
    "**Exemplo (Yahoo Finance):**\n",
    "\n",
    "```python\n",
    "    from backtrader.feeds import YahooFinanceData\n",
    "    dados = YahooFinanceData(dataname='AAPL', fromdate=datetime(2020, 1, 1), todate=datetime(2023, 1, 1))\n",
    "```"
   ]
  },
  {
   "cell_type": "markdown",
   "metadata": {},
   "source": [
    "##### **6. Indicadores Técnicos no Backtrader**"
   ]
  },
  {
   "cell_type": "markdown",
   "metadata": {},
   "source": [
    "**O que é?**\n",
    "O Backtrader já vem com diversos indicadores técnicos, como Médias Móveis, RSI, MACD, entre outros.\n",
    "\n",
    "**Exemplo (Média Móvel):**\n",
    "```python\n",
    "    self.ma = bt.indicators.SimpleMovingAverage(self.data.close, period=20)\n",
    "```"
   ]
  },
  {
   "cell_type": "markdown",
   "metadata": {},
   "source": [
    "##### **7. Visualização Gráfica**"
   ]
  },
  {
   "cell_type": "markdown",
   "metadata": {},
   "source": [
    "**O que é?**\n",
    "\n",
    "O Backtrader gera gráficos automáticos mostrando o desempenho da sua estratégia.\n",
    "\n",
    "**Exemplo:**\n",
    "\n",
    "```python\n",
    "    cerebro.plot()\n",
    "```"
   ]
  },
  {
   "cell_type": "markdown",
   "metadata": {},
   "source": [
    "### **📌 Projeto Final: Estratégia de Trading Orientada a Objetos com Backtrader**"
   ]
  },
  {
   "cell_type": "markdown",
   "metadata": {},
   "source": [
    "Neste projeto final, desenvolveremos um sistema de backtesting de estratégias de trading utilizando a biblioteca Backtrader. O objetivo é integrar de forma prática e aprofundada os 4 pilares da Programação Orientada a Objetos (POO) — Abstração, Encapsulamento, Herança e Polimorfismo — juntamente com os conceitos fundamentais de Classes, Atributos, Métodos e Objetos."
   ]
  },
  {
   "cell_type": "markdown",
   "metadata": {},
   "source": [
    "#### **🛠️ O que vocês terão que fazer**"
   ]
  },
  {
   "cell_type": "markdown",
   "metadata": {},
   "source": [
    "##### **1. Configuração do Ambiente**"
   ]
  },
  {
   "cell_type": "markdown",
   "metadata": {},
   "source": [
    "**Instalar o Backtrader**\n",
    "\n",
    "Execute o seguinte comando no terminal para instalar a biblioteca:"
   ]
  },
  {
   "cell_type": "code",
   "execution_count": 1,
   "metadata": {},
   "outputs": [
    {
     "name": "stdout",
     "output_type": "stream",
     "text": [
      "Requirement already satisfied: backtrader in c:\\users\\user\\anaconda3\\lib\\site-packages (1.9.78.123)\n"
     ]
    }
   ],
   "source": [
    "!pip install backtrader"
   ]
  },
  {
   "cell_type": "markdown",
   "metadata": {},
   "source": [
    "**Obter Dados Históricos**\n",
    "\n",
    "Baixe um dataset de ações de empresas como Apple (AAPL) ou Google (GOOGL) utilizando o Yahoo Finance. Porém, antes disso você precisara instalar essa biblioteca. Para tal, utilize o seguinte comando:"
   ]
  },
  {
   "cell_type": "code",
   "execution_count": 2,
   "metadata": {},
   "outputs": [
    {
     "name": "stdout",
     "output_type": "stream",
     "text": [
      "Requirement already satisfied: yfinance in c:\\users\\user\\anaconda3\\lib\\site-packages (0.2.54)\n",
      "Requirement already satisfied: pandas>=1.3.0 in c:\\users\\user\\anaconda3\\lib\\site-packages (from yfinance) (2.2.2)\n",
      "Requirement already satisfied: numpy>=1.16.5 in c:\\users\\user\\anaconda3\\lib\\site-packages (from yfinance) (1.26.4)\n",
      "Requirement already satisfied: requests>=2.31 in c:\\users\\user\\anaconda3\\lib\\site-packages (from yfinance) (2.32.3)\n",
      "Requirement already satisfied: multitasking>=0.0.7 in c:\\users\\user\\anaconda3\\lib\\site-packages (from yfinance) (0.0.11)\n",
      "Requirement already satisfied: platformdirs>=2.0.0 in c:\\users\\user\\anaconda3\\lib\\site-packages (from yfinance) (3.10.0)\n",
      "Requirement already satisfied: pytz>=2022.5 in c:\\users\\user\\anaconda3\\lib\\site-packages (from yfinance) (2024.1)\n",
      "Requirement already satisfied: frozendict>=2.3.4 in c:\\users\\user\\anaconda3\\lib\\site-packages (from yfinance) (2.4.2)\n",
      "Requirement already satisfied: peewee>=3.16.2 in c:\\users\\user\\anaconda3\\lib\\site-packages (from yfinance) (3.17.9)\n",
      "Requirement already satisfied: beautifulsoup4>=4.11.1 in c:\\users\\user\\anaconda3\\lib\\site-packages (from yfinance) (4.12.3)\n",
      "Requirement already satisfied: soupsieve>1.2 in c:\\users\\user\\anaconda3\\lib\\site-packages (from beautifulsoup4>=4.11.1->yfinance) (2.5)\n",
      "Requirement already satisfied: python-dateutil>=2.8.2 in c:\\users\\user\\anaconda3\\lib\\site-packages (from pandas>=1.3.0->yfinance) (2.9.0.post0)\n",
      "Requirement already satisfied: tzdata>=2022.7 in c:\\users\\user\\anaconda3\\lib\\site-packages (from pandas>=1.3.0->yfinance) (2023.3)\n",
      "Requirement already satisfied: charset-normalizer<4,>=2 in c:\\users\\user\\anaconda3\\lib\\site-packages (from requests>=2.31->yfinance) (3.3.2)\n",
      "Requirement already satisfied: idna<4,>=2.5 in c:\\users\\user\\anaconda3\\lib\\site-packages (from requests>=2.31->yfinance) (3.7)\n",
      "Requirement already satisfied: urllib3<3,>=1.21.1 in c:\\users\\user\\anaconda3\\lib\\site-packages (from requests>=2.31->yfinance) (2.2.3)\n",
      "Requirement already satisfied: certifi>=2017.4.17 in c:\\users\\user\\anaconda3\\lib\\site-packages (from requests>=2.31->yfinance) (2024.12.14)\n",
      "Requirement already satisfied: six>=1.5 in c:\\users\\user\\anaconda3\\lib\\site-packages (from python-dateutil>=2.8.2->pandas>=1.3.0->yfinance) (1.16.0)\n"
     ]
    }
   ],
   "source": [
    "!pip install yfinance"
   ]
  },
  {
   "cell_type": "markdown",
   "metadata": {},
   "source": [
    "**Importação das Bibliotecas Essenciais**\n",
    "\n",
    "Na célula abaixo, importem as bibliotecas que considerarem necessárias para o desenvolvimento do projeto. Lembrem que talvez vocês precisem instalar alguma delas. Para começar, já incluímos algumas bibliotecas fundamentais que facilitarão o processo:"
   ]
  },
  {
   "cell_type": "code",
   "execution_count": 4,
   "metadata": {},
   "outputs": [],
   "source": [
    "# Importa o Backtrader, uma biblioteca de backtesting para estratégias de trading\n",
    "import backtrader as bt\n",
    "\n",
    "# Importa o yFinance, utilizado para baixar dados financeiros históricos diretamente do Yahoo Finance\n",
    "import yfinance as yf\n",
    "\n",
    "# Importa a classe datetime para manipulação de datas\n",
    "from datetime import datetime\n",
    "\n",
    "# Importa o pandas, biblioteca essencial para análise e manipulação de dados em formato de DataFrames\n",
    "import pandas as pd\n",
    "\n",
    "# Importa o matplotlib.pyplot, biblioteca para criação de gráficos e visualizações de dados\n",
    "import matplotlib.pyplot as plt\n"
   ]
  },
  {
   "cell_type": "markdown",
   "metadata": {},
   "source": [
    "##### **2. Desenvolvimento da Estratégia de Trading com POO**"
   ]
  },
  {
   "cell_type": "markdown",
   "metadata": {},
   "source": [
    "**Criar uma Classe para a Estratégia**\n",
    "Definam uma classe que herde de bt.Strategy, que será o coração do seu projeto. Essa classe deve conter:\n",
    "\n",
    "- Atributos: Definam indicadores técnicos, como médias móveis de curto e longo prazo.\n",
    "\n",
    "- Métodos:\n",
    "    - __ init __: Inicializa os indicadores e variáveis da estratégia.\n",
    "    - next: Define a lógica de compra e venda baseada nos sinais dos indicadores.\n"
   ]
  },
  {
   "cell_type": "markdown",
   "metadata": {},
   "source": [
    "**Exemplo:**"
   ]
  },
  {
   "cell_type": "code",
   "execution_count": 5,
   "metadata": {},
   "outputs": [],
   "source": [
    "# Definimos uma classe de estratégia que herda da classe base bt.Strategy do Backtrader.\n",
    "# Isso é um exemplo de **Herança** em Programação Orientada a Objetos (POO), permitindo que nossa estratégia utilize\n",
    "# todas as funcionalidades embutidas da classe Strategy, como controle de posições e execução de ordens.\n",
    "class MovingAverageCrossStrategy(bt.Strategy):\n",
    "\n",
    "    # O método __init__ é chamado uma vez no início da execução da estratégia.\n",
    "    # Usamos esse método para inicializar os **atributos** da nossa estratégia, como indicadores técnicos.\n",
    "    def __init__(self):\n",
    "        # Criamos um indicador de Média Móvel Simples (SMA) de 10 períodos sobre o preço de fechamento dos dados.\n",
    "        # 'self.ma_short' é um atributo que guarda a média móvel curta, que reage mais rapidamente às mudanças de preço.\n",
    "        self.ma_short = bt.indicators.SimpleMovingAverage(self.data.close, period=10)\n",
    "        \n",
    "        # Criamos outro indicador de Média Móvel Simples (SMA), agora de 30 períodos.\n",
    "        # 'self.ma_long' é um atributo que guarda a média móvel longa, que é mais lenta para reagir às variações do preço.\n",
    "        self.ma_long = bt.indicators.SimpleMovingAverage(self.data.close, period=30)\n",
    "\n",
    "    # O método next é chamado automaticamente pelo Backtrader a cada novo \"candle\" ou barra de dados (ex.: diário, horário).\n",
    "    # É aqui que definimos a **lógica de compra e venda** da nossa estratégia.\n",
    "    def next(self):\n",
    "        # Condição para compra:\n",
    "        # Se a média móvel curta (ma_short) cruzar acima da média móvel longa (ma_long),\n",
    "        # e ainda **não temos uma posição aberta** (not self.position), então executamos uma compra.\n",
    "        \n",
    "        # O que é self.position?\n",
    "        # 'self.position' é um atributo do Backtrader que indica se já temos uma posição aberta no ativo.\n",
    "        # Se não houver posição aberta, 'self.position' é avaliado como False (ou 0).\n",
    "        # Se estivermos comprados, 'self.position' é True (ou o número de unidades compradas).\n",
    "        \n",
    "        if self.ma_short[0] > self.ma_long[0] and not self.position:\n",
    "            self.buy()  # Método do Backtrader que executa uma ordem de compra.\n",
    "            \n",
    "            # Quanto é comprado?\n",
    "            # Por padrão, o método 'self.buy()' compra 1 unidade do ativo. \n",
    "            # Para comprar uma quantidade específica, podemos passar o argumento 'size', por exemplo: self.buy(size=100).\n",
    "        \n",
    "        # Condição para venda:\n",
    "        # Se a média móvel curta cruzar abaixo da média móvel longa,\n",
    "        # e **já temos uma posição aberta** (self.position), então vendemos.\n",
    "        elif self.ma_short[0] < self.ma_long[0] and self.position:\n",
    "            self.sell()  # Método do Backtrader que executa uma ordem de venda.\n",
    "            \n",
    "            # Quanto é vendido?\n",
    "            # Por padrão, 'self.sell()' vende todas as unidades do ativo que foram compradas anteriormente, encerrando a posição.\n",
    "            # Para vender uma quantidade específica (por exemplo, vender parcialmente), podemos usar: self.sell(size=50).\n"
   ]
  },
  {
   "cell_type": "markdown",
   "metadata": {},
   "source": [
    "##### **3. Executar o Backtest:**"
   ]
  },
  {
   "cell_type": "markdown",
   "metadata": {},
   "source": [
    "Com a estratégia pronta, configurem e executem o backtest usando o Cerebro, o motor de execução do Backtrader.\n",
    "\n",
    "**Configurar o Cerebro**\n",
    "\n",
    "Inicializem o motor Cerebro, adicionem os dados históricos e a estratégia desenvolvida:"
   ]
  },
  {
   "cell_type": "code",
   "execution_count": 6,
   "metadata": {},
   "outputs": [
    {
     "name": "stderr",
     "output_type": "stream",
     "text": [
      "[*********************100%***********************]  1 of 1 completed\n"
     ]
    },
    {
     "data": {
      "text/plain": [
       "0"
      ]
     },
     "execution_count": 6,
     "metadata": {},
     "output_type": "execute_result"
    }
   ],
   "source": [
    "# Parâmetros relacionados a captura de dados do ticker.\n",
    "ticker = 'AAPL'\n",
    "start_date = '2020-01-01'\n",
    "end_date = '2021-01-01'\n",
    "\n",
    "# Baixando os dados do ticker com auto ajuste\n",
    "data = yf.download(ticker, start=start_date, end=end_date, auto_adjust=True)\n",
    "\n",
    "# Verificando e ajustando as colunas para o formato correto\n",
    "if isinstance(data.columns, pd.MultiIndex):\n",
    "    data.columns = data.columns.get_level_values(0)  # Remove o MultiIndex\n",
    "\n",
    "# Carregando os dados no Backtrader\n",
    "data_feed = bt.feeds.PandasData(dataname=data)\n",
    "\n",
    "# Inicializando o Cerebro\n",
    "cerebro = bt.Cerebro()\n",
    "cerebro.adddata(data_feed)\n",
    "cerebro.addstrategy(MovingAverageCrossStrategy)"
   ]
  },
  {
   "cell_type": "markdown",
   "metadata": {},
   "source": [
    "**Executar o Backtest**\n",
    "\n",
    "Rodem o backtest e visualizem o desempenho:"
   ]
  },
  {
   "cell_type": "code",
   "execution_count": 7,
   "metadata": {},
   "outputs": [
    {
     "name": "stdout",
     "output_type": "stream",
     "text": [
      "Saldo inicial: $15000.00\n",
      "Saldo final: $15025.05\n",
      "Lucro/Prejuízo: $25.05\n"
     ]
    },
    {
     "data": {
      "application/javascript": "/* Put everything inside the global mpl namespace */\n/* global mpl */\nwindow.mpl = {};\n\nmpl.get_websocket_type = function () {\n    if (typeof WebSocket !== 'undefined') {\n        return WebSocket;\n    } else if (typeof MozWebSocket !== 'undefined') {\n        return MozWebSocket;\n    } else {\n        alert(\n            'Your browser does not have WebSocket support. ' +\n                'Please try Chrome, Safari or Firefox ≥ 6. ' +\n                'Firefox 4 and 5 are also supported but you ' +\n                'have to enable WebSockets in about:config.'\n        );\n    }\n};\n\nmpl.figure = function (figure_id, websocket, ondownload, parent_element) {\n    this.id = figure_id;\n\n    this.ws = websocket;\n\n    this.supports_binary = this.ws.binaryType !== undefined;\n\n    if (!this.supports_binary) {\n        var warnings = document.getElementById('mpl-warnings');\n        if (warnings) {\n            warnings.style.display = 'block';\n            warnings.textContent =\n                'This browser does not support binary websocket messages. ' +\n                'Performance may be slow.';\n        }\n    }\n\n    this.imageObj = new Image();\n\n    this.context = undefined;\n    this.message = undefined;\n    this.canvas = undefined;\n    this.rubberband_canvas = undefined;\n    this.rubberband_context = undefined;\n    this.format_dropdown = undefined;\n\n    this.image_mode = 'full';\n\n    this.root = document.createElement('div');\n    this.root.setAttribute('style', 'display: inline-block');\n    this._root_extra_style(this.root);\n\n    parent_element.appendChild(this.root);\n\n    this._init_header(this);\n    this._init_canvas(this);\n    this._init_toolbar(this);\n\n    var fig = this;\n\n    this.waiting = false;\n\n    this.ws.onopen = function () {\n        fig.send_message('supports_binary', { value: fig.supports_binary });\n        fig.send_message('send_image_mode', {});\n        if (fig.ratio !== 1) {\n            fig.send_message('set_device_pixel_ratio', {\n                device_pixel_ratio: fig.ratio,\n            });\n        }\n        fig.send_message('refresh', {});\n    };\n\n    this.imageObj.onload = function () {\n        if (fig.image_mode === 'full') {\n            // Full images could contain transparency (where diff images\n            // almost always do), so we need to clear the canvas so that\n            // there is no ghosting.\n            fig.context.clearRect(0, 0, fig.canvas.width, fig.canvas.height);\n        }\n        fig.context.drawImage(fig.imageObj, 0, 0);\n    };\n\n    this.imageObj.onunload = function () {\n        fig.ws.close();\n    };\n\n    this.ws.onmessage = this._make_on_message_function(this);\n\n    this.ondownload = ondownload;\n};\n\nmpl.figure.prototype._init_header = function () {\n    var titlebar = document.createElement('div');\n    titlebar.classList =\n        'ui-dialog-titlebar ui-widget-header ui-corner-all ui-helper-clearfix';\n    var titletext = document.createElement('div');\n    titletext.classList = 'ui-dialog-title';\n    titletext.setAttribute(\n        'style',\n        'width: 100%; text-align: center; padding: 3px;'\n    );\n    titlebar.appendChild(titletext);\n    this.root.appendChild(titlebar);\n    this.header = titletext;\n};\n\nmpl.figure.prototype._canvas_extra_style = function (_canvas_div) {};\n\nmpl.figure.prototype._root_extra_style = function (_canvas_div) {};\n\nmpl.figure.prototype._init_canvas = function () {\n    var fig = this;\n\n    var canvas_div = (this.canvas_div = document.createElement('div'));\n    canvas_div.setAttribute('tabindex', '0');\n    canvas_div.setAttribute(\n        'style',\n        'border: 1px solid #ddd;' +\n            'box-sizing: content-box;' +\n            'clear: both;' +\n            'min-height: 1px;' +\n            'min-width: 1px;' +\n            'outline: 0;' +\n            'overflow: hidden;' +\n            'position: relative;' +\n            'resize: both;' +\n            'z-index: 2;'\n    );\n\n    function on_keyboard_event_closure(name) {\n        return function (event) {\n            return fig.key_event(event, name);\n        };\n    }\n\n    canvas_div.addEventListener(\n        'keydown',\n        on_keyboard_event_closure('key_press')\n    );\n    canvas_div.addEventListener(\n        'keyup',\n        on_keyboard_event_closure('key_release')\n    );\n\n    this._canvas_extra_style(canvas_div);\n    this.root.appendChild(canvas_div);\n\n    var canvas = (this.canvas = document.createElement('canvas'));\n    canvas.classList.add('mpl-canvas');\n    canvas.setAttribute(\n        'style',\n        'box-sizing: content-box;' +\n            'pointer-events: none;' +\n            'position: relative;' +\n            'z-index: 0;'\n    );\n\n    this.context = canvas.getContext('2d');\n\n    var backingStore =\n        this.context.backingStorePixelRatio ||\n        this.context.webkitBackingStorePixelRatio ||\n        this.context.mozBackingStorePixelRatio ||\n        this.context.msBackingStorePixelRatio ||\n        this.context.oBackingStorePixelRatio ||\n        this.context.backingStorePixelRatio ||\n        1;\n\n    this.ratio = (window.devicePixelRatio || 1) / backingStore;\n\n    var rubberband_canvas = (this.rubberband_canvas = document.createElement(\n        'canvas'\n    ));\n    rubberband_canvas.setAttribute(\n        'style',\n        'box-sizing: content-box;' +\n            'left: 0;' +\n            'pointer-events: none;' +\n            'position: absolute;' +\n            'top: 0;' +\n            'z-index: 1;'\n    );\n\n    // Apply a ponyfill if ResizeObserver is not implemented by browser.\n    if (this.ResizeObserver === undefined) {\n        if (window.ResizeObserver !== undefined) {\n            this.ResizeObserver = window.ResizeObserver;\n        } else {\n            var obs = _JSXTOOLS_RESIZE_OBSERVER({});\n            this.ResizeObserver = obs.ResizeObserver;\n        }\n    }\n\n    this.resizeObserverInstance = new this.ResizeObserver(function (entries) {\n        // There's no need to resize if the WebSocket is not connected:\n        // - If it is still connecting, then we will get an initial resize from\n        //   Python once it connects.\n        // - If it has disconnected, then resizing will clear the canvas and\n        //   never get anything back to refill it, so better to not resize and\n        //   keep something visible.\n        if (fig.ws.readyState != 1) {\n            return;\n        }\n        var nentries = entries.length;\n        for (var i = 0; i < nentries; i++) {\n            var entry = entries[i];\n            var width, height;\n            if (entry.contentBoxSize) {\n                if (entry.contentBoxSize instanceof Array) {\n                    // Chrome 84 implements new version of spec.\n                    width = entry.contentBoxSize[0].inlineSize;\n                    height = entry.contentBoxSize[0].blockSize;\n                } else {\n                    // Firefox implements old version of spec.\n                    width = entry.contentBoxSize.inlineSize;\n                    height = entry.contentBoxSize.blockSize;\n                }\n            } else {\n                // Chrome <84 implements even older version of spec.\n                width = entry.contentRect.width;\n                height = entry.contentRect.height;\n            }\n\n            // Keep the size of the canvas and rubber band canvas in sync with\n            // the canvas container.\n            if (entry.devicePixelContentBoxSize) {\n                // Chrome 84 implements new version of spec.\n                canvas.setAttribute(\n                    'width',\n                    entry.devicePixelContentBoxSize[0].inlineSize\n                );\n                canvas.setAttribute(\n                    'height',\n                    entry.devicePixelContentBoxSize[0].blockSize\n                );\n            } else {\n                canvas.setAttribute('width', width * fig.ratio);\n                canvas.setAttribute('height', height * fig.ratio);\n            }\n            /* This rescales the canvas back to display pixels, so that it\n             * appears correct on HiDPI screens. */\n            canvas.style.width = width + 'px';\n            canvas.style.height = height + 'px';\n\n            rubberband_canvas.setAttribute('width', width);\n            rubberband_canvas.setAttribute('height', height);\n\n            // And update the size in Python. We ignore the initial 0/0 size\n            // that occurs as the element is placed into the DOM, which should\n            // otherwise not happen due to the minimum size styling.\n            if (width != 0 && height != 0) {\n                fig.request_resize(width, height);\n            }\n        }\n    });\n    this.resizeObserverInstance.observe(canvas_div);\n\n    function on_mouse_event_closure(name) {\n        /* User Agent sniffing is bad, but WebKit is busted:\n         * https://bugs.webkit.org/show_bug.cgi?id=144526\n         * https://bugs.webkit.org/show_bug.cgi?id=181818\n         * The worst that happens here is that they get an extra browser\n         * selection when dragging, if this check fails to catch them.\n         */\n        var UA = navigator.userAgent;\n        var isWebKit = /AppleWebKit/.test(UA) && !/Chrome/.test(UA);\n        if(isWebKit) {\n            return function (event) {\n                /* This prevents the web browser from automatically changing to\n                 * the text insertion cursor when the button is pressed. We\n                 * want to control all of the cursor setting manually through\n                 * the 'cursor' event from matplotlib */\n                event.preventDefault()\n                return fig.mouse_event(event, name);\n            };\n        } else {\n            return function (event) {\n                return fig.mouse_event(event, name);\n            };\n        }\n    }\n\n    canvas_div.addEventListener(\n        'mousedown',\n        on_mouse_event_closure('button_press')\n    );\n    canvas_div.addEventListener(\n        'mouseup',\n        on_mouse_event_closure('button_release')\n    );\n    canvas_div.addEventListener(\n        'dblclick',\n        on_mouse_event_closure('dblclick')\n    );\n    // Throttle sequential mouse events to 1 every 20ms.\n    canvas_div.addEventListener(\n        'mousemove',\n        on_mouse_event_closure('motion_notify')\n    );\n\n    canvas_div.addEventListener(\n        'mouseenter',\n        on_mouse_event_closure('figure_enter')\n    );\n    canvas_div.addEventListener(\n        'mouseleave',\n        on_mouse_event_closure('figure_leave')\n    );\n\n    canvas_div.addEventListener('wheel', function (event) {\n        if (event.deltaY < 0) {\n            event.step = 1;\n        } else {\n            event.step = -1;\n        }\n        on_mouse_event_closure('scroll')(event);\n    });\n\n    canvas_div.appendChild(canvas);\n    canvas_div.appendChild(rubberband_canvas);\n\n    this.rubberband_context = rubberband_canvas.getContext('2d');\n    this.rubberband_context.strokeStyle = '#000000';\n\n    this._resize_canvas = function (width, height, forward) {\n        if (forward) {\n            canvas_div.style.width = width + 'px';\n            canvas_div.style.height = height + 'px';\n        }\n    };\n\n    // Disable right mouse context menu.\n    canvas_div.addEventListener('contextmenu', function (_e) {\n        event.preventDefault();\n        return false;\n    });\n\n    function set_focus() {\n        canvas.focus();\n        canvas_div.focus();\n    }\n\n    window.setTimeout(set_focus, 100);\n};\n\nmpl.figure.prototype._init_toolbar = function () {\n    var fig = this;\n\n    var toolbar = document.createElement('div');\n    toolbar.classList = 'mpl-toolbar';\n    this.root.appendChild(toolbar);\n\n    function on_click_closure(name) {\n        return function (_event) {\n            return fig.toolbar_button_onclick(name);\n        };\n    }\n\n    function on_mouseover_closure(tooltip) {\n        return function (event) {\n            if (!event.currentTarget.disabled) {\n                return fig.toolbar_button_onmouseover(tooltip);\n            }\n        };\n    }\n\n    fig.buttons = {};\n    var buttonGroup = document.createElement('div');\n    buttonGroup.classList = 'mpl-button-group';\n    for (var toolbar_ind in mpl.toolbar_items) {\n        var name = mpl.toolbar_items[toolbar_ind][0];\n        var tooltip = mpl.toolbar_items[toolbar_ind][1];\n        var image = mpl.toolbar_items[toolbar_ind][2];\n        var method_name = mpl.toolbar_items[toolbar_ind][3];\n\n        if (!name) {\n            /* Instead of a spacer, we start a new button group. */\n            if (buttonGroup.hasChildNodes()) {\n                toolbar.appendChild(buttonGroup);\n            }\n            buttonGroup = document.createElement('div');\n            buttonGroup.classList = 'mpl-button-group';\n            continue;\n        }\n\n        var button = (fig.buttons[name] = document.createElement('button'));\n        button.classList = 'mpl-widget';\n        button.setAttribute('role', 'button');\n        button.setAttribute('aria-disabled', 'false');\n        button.addEventListener('click', on_click_closure(method_name));\n        button.addEventListener('mouseover', on_mouseover_closure(tooltip));\n\n        var icon_img = document.createElement('img');\n        icon_img.src = '_images/' + image + '.png';\n        icon_img.srcset = '_images/' + image + '_large.png 2x';\n        icon_img.alt = tooltip;\n        button.appendChild(icon_img);\n\n        buttonGroup.appendChild(button);\n    }\n\n    if (buttonGroup.hasChildNodes()) {\n        toolbar.appendChild(buttonGroup);\n    }\n\n    var fmt_picker = document.createElement('select');\n    fmt_picker.classList = 'mpl-widget';\n    toolbar.appendChild(fmt_picker);\n    this.format_dropdown = fmt_picker;\n\n    for (var ind in mpl.extensions) {\n        var fmt = mpl.extensions[ind];\n        var option = document.createElement('option');\n        option.selected = fmt === mpl.default_extension;\n        option.innerHTML = fmt;\n        fmt_picker.appendChild(option);\n    }\n\n    var status_bar = document.createElement('span');\n    status_bar.classList = 'mpl-message';\n    toolbar.appendChild(status_bar);\n    this.message = status_bar;\n};\n\nmpl.figure.prototype.request_resize = function (x_pixels, y_pixels) {\n    // Request matplotlib to resize the figure. Matplotlib will then trigger a resize in the client,\n    // which will in turn request a refresh of the image.\n    this.send_message('resize', { width: x_pixels, height: y_pixels });\n};\n\nmpl.figure.prototype.send_message = function (type, properties) {\n    properties['type'] = type;\n    properties['figure_id'] = this.id;\n    this.ws.send(JSON.stringify(properties));\n};\n\nmpl.figure.prototype.send_draw_message = function () {\n    if (!this.waiting) {\n        this.waiting = true;\n        this.ws.send(JSON.stringify({ type: 'draw', figure_id: this.id }));\n    }\n};\n\nmpl.figure.prototype.handle_save = function (fig, _msg) {\n    var format_dropdown = fig.format_dropdown;\n    var format = format_dropdown.options[format_dropdown.selectedIndex].value;\n    fig.ondownload(fig, format);\n};\n\nmpl.figure.prototype.handle_resize = function (fig, msg) {\n    var size = msg['size'];\n    if (size[0] !== fig.canvas.width || size[1] !== fig.canvas.height) {\n        fig._resize_canvas(size[0], size[1], msg['forward']);\n        fig.send_message('refresh', {});\n    }\n};\n\nmpl.figure.prototype.handle_rubberband = function (fig, msg) {\n    var x0 = msg['x0'] / fig.ratio;\n    var y0 = (fig.canvas.height - msg['y0']) / fig.ratio;\n    var x1 = msg['x1'] / fig.ratio;\n    var y1 = (fig.canvas.height - msg['y1']) / fig.ratio;\n    x0 = Math.floor(x0) + 0.5;\n    y0 = Math.floor(y0) + 0.5;\n    x1 = Math.floor(x1) + 0.5;\n    y1 = Math.floor(y1) + 0.5;\n    var min_x = Math.min(x0, x1);\n    var min_y = Math.min(y0, y1);\n    var width = Math.abs(x1 - x0);\n    var height = Math.abs(y1 - y0);\n\n    fig.rubberband_context.clearRect(\n        0,\n        0,\n        fig.canvas.width / fig.ratio,\n        fig.canvas.height / fig.ratio\n    );\n\n    fig.rubberband_context.strokeRect(min_x, min_y, width, height);\n};\n\nmpl.figure.prototype.handle_figure_label = function (fig, msg) {\n    // Updates the figure title.\n    fig.header.textContent = msg['label'];\n};\n\nmpl.figure.prototype.handle_cursor = function (fig, msg) {\n    fig.canvas_div.style.cursor = msg['cursor'];\n};\n\nmpl.figure.prototype.handle_message = function (fig, msg) {\n    fig.message.textContent = msg['message'];\n};\n\nmpl.figure.prototype.handle_draw = function (fig, _msg) {\n    // Request the server to send over a new figure.\n    fig.send_draw_message();\n};\n\nmpl.figure.prototype.handle_image_mode = function (fig, msg) {\n    fig.image_mode = msg['mode'];\n};\n\nmpl.figure.prototype.handle_history_buttons = function (fig, msg) {\n    for (var key in msg) {\n        if (!(key in fig.buttons)) {\n            continue;\n        }\n        fig.buttons[key].disabled = !msg[key];\n        fig.buttons[key].setAttribute('aria-disabled', !msg[key]);\n    }\n};\n\nmpl.figure.prototype.handle_navigate_mode = function (fig, msg) {\n    if (msg['mode'] === 'PAN') {\n        fig.buttons['Pan'].classList.add('active');\n        fig.buttons['Zoom'].classList.remove('active');\n    } else if (msg['mode'] === 'ZOOM') {\n        fig.buttons['Pan'].classList.remove('active');\n        fig.buttons['Zoom'].classList.add('active');\n    } else {\n        fig.buttons['Pan'].classList.remove('active');\n        fig.buttons['Zoom'].classList.remove('active');\n    }\n};\n\nmpl.figure.prototype.updated_canvas_event = function () {\n    // Called whenever the canvas gets updated.\n    this.send_message('ack', {});\n};\n\n// A function to construct a web socket function for onmessage handling.\n// Called in the figure constructor.\nmpl.figure.prototype._make_on_message_function = function (fig) {\n    return function socket_on_message(evt) {\n        if (evt.data instanceof Blob) {\n            var img = evt.data;\n            if (img.type !== 'image/png') {\n                /* FIXME: We get \"Resource interpreted as Image but\n                 * transferred with MIME type text/plain:\" errors on\n                 * Chrome.  But how to set the MIME type?  It doesn't seem\n                 * to be part of the websocket stream */\n                img.type = 'image/png';\n            }\n\n            /* Free the memory for the previous frames */\n            if (fig.imageObj.src) {\n                (window.URL || window.webkitURL).revokeObjectURL(\n                    fig.imageObj.src\n                );\n            }\n\n            fig.imageObj.src = (window.URL || window.webkitURL).createObjectURL(\n                img\n            );\n            fig.updated_canvas_event();\n            fig.waiting = false;\n            return;\n        } else if (\n            typeof evt.data === 'string' &&\n            evt.data.slice(0, 21) === 'data:image/png;base64'\n        ) {\n            fig.imageObj.src = evt.data;\n            fig.updated_canvas_event();\n            fig.waiting = false;\n            return;\n        }\n\n        var msg = JSON.parse(evt.data);\n        var msg_type = msg['type'];\n\n        // Call the  \"handle_{type}\" callback, which takes\n        // the figure and JSON message as its only arguments.\n        try {\n            var callback = fig['handle_' + msg_type];\n        } catch (e) {\n            console.log(\n                \"No handler for the '\" + msg_type + \"' message type: \",\n                msg\n            );\n            return;\n        }\n\n        if (callback) {\n            try {\n                // console.log(\"Handling '\" + msg_type + \"' message: \", msg);\n                callback(fig, msg);\n            } catch (e) {\n                console.log(\n                    \"Exception inside the 'handler_\" + msg_type + \"' callback:\",\n                    e,\n                    e.stack,\n                    msg\n                );\n            }\n        }\n    };\n};\n\nfunction getModifiers(event) {\n    var mods = [];\n    if (event.ctrlKey) {\n        mods.push('ctrl');\n    }\n    if (event.altKey) {\n        mods.push('alt');\n    }\n    if (event.shiftKey) {\n        mods.push('shift');\n    }\n    if (event.metaKey) {\n        mods.push('meta');\n    }\n    return mods;\n}\n\n/*\n * return a copy of an object with only non-object keys\n * we need this to avoid circular references\n * https://stackoverflow.com/a/24161582/3208463\n */\nfunction simpleKeys(original) {\n    return Object.keys(original).reduce(function (obj, key) {\n        if (typeof original[key] !== 'object') {\n            obj[key] = original[key];\n        }\n        return obj;\n    }, {});\n}\n\nmpl.figure.prototype.mouse_event = function (event, name) {\n    if (name === 'button_press') {\n        this.canvas.focus();\n        this.canvas_div.focus();\n    }\n\n    // from https://stackoverflow.com/q/1114465\n    var boundingRect = this.canvas.getBoundingClientRect();\n    var x = (event.clientX - boundingRect.left) * this.ratio;\n    var y = (event.clientY - boundingRect.top) * this.ratio;\n\n    this.send_message(name, {\n        x: x,\n        y: y,\n        button: event.button,\n        step: event.step,\n        modifiers: getModifiers(event),\n        guiEvent: simpleKeys(event),\n    });\n\n    return false;\n};\n\nmpl.figure.prototype._key_event_extra = function (_event, _name) {\n    // Handle any extra behaviour associated with a key event\n};\n\nmpl.figure.prototype.key_event = function (event, name) {\n    // Prevent repeat events\n    if (name === 'key_press') {\n        if (event.key === this._key) {\n            return;\n        } else {\n            this._key = event.key;\n        }\n    }\n    if (name === 'key_release') {\n        this._key = null;\n    }\n\n    var value = '';\n    if (event.ctrlKey && event.key !== 'Control') {\n        value += 'ctrl+';\n    }\n    else if (event.altKey && event.key !== 'Alt') {\n        value += 'alt+';\n    }\n    else if (event.shiftKey && event.key !== 'Shift') {\n        value += 'shift+';\n    }\n\n    value += 'k' + event.key;\n\n    this._key_event_extra(event, name);\n\n    this.send_message(name, { key: value, guiEvent: simpleKeys(event) });\n    return false;\n};\n\nmpl.figure.prototype.toolbar_button_onclick = function (name) {\n    if (name === 'download') {\n        this.handle_save(this, null);\n    } else {\n        this.send_message('toolbar_button', { name: name });\n    }\n};\n\nmpl.figure.prototype.toolbar_button_onmouseover = function (tooltip) {\n    this.message.textContent = tooltip;\n};\n\n///////////////// REMAINING CONTENT GENERATED BY embed_js.py /////////////////\n// prettier-ignore\nvar _JSXTOOLS_RESIZE_OBSERVER=function(A){var t,i=new WeakMap,n=new WeakMap,a=new WeakMap,r=new WeakMap,o=new Set;function s(e){if(!(this instanceof s))throw new TypeError(\"Constructor requires 'new' operator\");i.set(this,e)}function h(){throw new TypeError(\"Function is not a constructor\")}function c(e,t,i,n){e=0 in arguments?Number(arguments[0]):0,t=1 in arguments?Number(arguments[1]):0,i=2 in arguments?Number(arguments[2]):0,n=3 in arguments?Number(arguments[3]):0,this.right=(this.x=this.left=e)+(this.width=i),this.bottom=(this.y=this.top=t)+(this.height=n),Object.freeze(this)}function d(){t=requestAnimationFrame(d);var s=new WeakMap,p=new Set;o.forEach((function(t){r.get(t).forEach((function(i){var r=t instanceof window.SVGElement,o=a.get(t),d=r?0:parseFloat(o.paddingTop),f=r?0:parseFloat(o.paddingRight),l=r?0:parseFloat(o.paddingBottom),u=r?0:parseFloat(o.paddingLeft),g=r?0:parseFloat(o.borderTopWidth),m=r?0:parseFloat(o.borderRightWidth),w=r?0:parseFloat(o.borderBottomWidth),b=u+f,F=d+l,v=(r?0:parseFloat(o.borderLeftWidth))+m,W=g+w,y=r?0:t.offsetHeight-W-t.clientHeight,E=r?0:t.offsetWidth-v-t.clientWidth,R=b+v,z=F+W,M=r?t.width:parseFloat(o.width)-R-E,O=r?t.height:parseFloat(o.height)-z-y;if(n.has(t)){var k=n.get(t);if(k[0]===M&&k[1]===O)return}n.set(t,[M,O]);var S=Object.create(h.prototype);S.target=t,S.contentRect=new c(u,d,M,O),s.has(i)||(s.set(i,[]),p.add(i)),s.get(i).push(S)}))})),p.forEach((function(e){i.get(e).call(e,s.get(e),e)}))}return s.prototype.observe=function(i){if(i instanceof window.Element){r.has(i)||(r.set(i,new Set),o.add(i),a.set(i,window.getComputedStyle(i)));var n=r.get(i);n.has(this)||n.add(this),cancelAnimationFrame(t),t=requestAnimationFrame(d)}},s.prototype.unobserve=function(i){if(i instanceof window.Element&&r.has(i)){var n=r.get(i);n.has(this)&&(n.delete(this),n.size||(r.delete(i),o.delete(i))),n.size||r.delete(i),o.size||cancelAnimationFrame(t)}},A.DOMRectReadOnly=c,A.ResizeObserver=s,A.ResizeObserverEntry=h,A}; // eslint-disable-line\nmpl.toolbar_items = [[\"Home\", \"Reset original view\", \"fa fa-home\", \"home\"], [\"Back\", \"Back to previous view\", \"fa fa-arrow-left\", \"back\"], [\"Forward\", \"Forward to next view\", \"fa fa-arrow-right\", \"forward\"], [\"\", \"\", \"\", \"\"], [\"Pan\", \"Left button pans, Right button zooms\\nx/y fixes axis, CTRL fixes aspect\", \"fa fa-arrows\", \"pan\"], [\"Zoom\", \"Zoom to rectangle\\nx/y fixes axis\", \"fa fa-square-o\", \"zoom\"], [\"\", \"\", \"\", \"\"], [\"Download\", \"Download plot\", \"fa fa-floppy-o\", \"download\"]];\n\nmpl.extensions = [\"eps\", \"jpeg\", \"pgf\", \"pdf\", \"png\", \"ps\", \"raw\", \"svg\", \"tif\", \"webp\"];\n\nmpl.default_extension = \"png\";/* global mpl */\n\nvar comm_websocket_adapter = function (comm) {\n    // Create a \"websocket\"-like object which calls the given IPython comm\n    // object with the appropriate methods. Currently this is a non binary\n    // socket, so there is still some room for performance tuning.\n    var ws = {};\n\n    ws.binaryType = comm.kernel.ws.binaryType;\n    ws.readyState = comm.kernel.ws.readyState;\n    function updateReadyState(_event) {\n        if (comm.kernel.ws) {\n            ws.readyState = comm.kernel.ws.readyState;\n        } else {\n            ws.readyState = 3; // Closed state.\n        }\n    }\n    comm.kernel.ws.addEventListener('open', updateReadyState);\n    comm.kernel.ws.addEventListener('close', updateReadyState);\n    comm.kernel.ws.addEventListener('error', updateReadyState);\n\n    ws.close = function () {\n        comm.close();\n    };\n    ws.send = function (m) {\n        //console.log('sending', m);\n        comm.send(m);\n    };\n    // Register the callback with on_msg.\n    comm.on_msg(function (msg) {\n        //console.log('receiving', msg['content']['data'], msg);\n        var data = msg['content']['data'];\n        if (data['blob'] !== undefined) {\n            data = {\n                data: new Blob(msg['buffers'], { type: data['blob'] }),\n            };\n        }\n        // Pass the mpl event to the overridden (by mpl) onmessage function.\n        ws.onmessage(data);\n    });\n    return ws;\n};\n\nmpl.mpl_figure_comm = function (comm, msg) {\n    // This is the function which gets called when the mpl process\n    // starts-up an IPython Comm through the \"matplotlib\" channel.\n\n    var id = msg.content.data.id;\n    // Get hold of the div created by the display call when the Comm\n    // socket was opened in Python.\n    var element = document.getElementById(id);\n    var ws_proxy = comm_websocket_adapter(comm);\n\n    function ondownload(figure, _format) {\n        window.open(figure.canvas.toDataURL());\n    }\n\n    var fig = new mpl.figure(id, ws_proxy, ondownload, element);\n\n    // Call onopen now - mpl needs it, as it is assuming we've passed it a real\n    // web socket which is closed, not our websocket->open comm proxy.\n    ws_proxy.onopen();\n\n    fig.parent_element = element;\n    fig.cell_info = mpl.find_output_cell(\"<div id='\" + id + \"'></div>\");\n    if (!fig.cell_info) {\n        console.error('Failed to find cell for figure', id, fig);\n        return;\n    }\n    fig.cell_info[0].output_area.element.on(\n        'cleared',\n        { fig: fig },\n        fig._remove_fig_handler\n    );\n};\n\nmpl.figure.prototype.handle_close = function (fig, msg) {\n    var width = fig.canvas.width / fig.ratio;\n    fig.cell_info[0].output_area.element.off(\n        'cleared',\n        fig._remove_fig_handler\n    );\n    fig.resizeObserverInstance.unobserve(fig.canvas_div);\n\n    // Update the output cell to use the data from the current canvas.\n    fig.push_to_output();\n    var dataURL = fig.canvas.toDataURL();\n    // Re-enable the keyboard manager in IPython - without this line, in FF,\n    // the notebook keyboard shortcuts fail.\n    IPython.keyboard_manager.enable();\n    fig.parent_element.innerHTML =\n        '<img src=\"' + dataURL + '\" width=\"' + width + '\">';\n    fig.close_ws(fig, msg);\n};\n\nmpl.figure.prototype.close_ws = function (fig, msg) {\n    fig.send_message('closing', msg);\n    // fig.ws.close()\n};\n\nmpl.figure.prototype.push_to_output = function (_remove_interactive) {\n    // Turn the data on the canvas into data in the output cell.\n    var width = this.canvas.width / this.ratio;\n    var dataURL = this.canvas.toDataURL();\n    this.cell_info[1]['text/html'] =\n        '<img src=\"' + dataURL + '\" width=\"' + width + '\">';\n};\n\nmpl.figure.prototype.updated_canvas_event = function () {\n    // Tell IPython that the notebook contents must change.\n    IPython.notebook.set_dirty(true);\n    this.send_message('ack', {});\n    var fig = this;\n    // Wait a second, then push the new image to the DOM so\n    // that it is saved nicely (might be nice to debounce this).\n    setTimeout(function () {\n        fig.push_to_output();\n    }, 1000);\n};\n\nmpl.figure.prototype._init_toolbar = function () {\n    var fig = this;\n\n    var toolbar = document.createElement('div');\n    toolbar.classList = 'btn-toolbar';\n    this.root.appendChild(toolbar);\n\n    function on_click_closure(name) {\n        return function (_event) {\n            return fig.toolbar_button_onclick(name);\n        };\n    }\n\n    function on_mouseover_closure(tooltip) {\n        return function (event) {\n            if (!event.currentTarget.disabled) {\n                return fig.toolbar_button_onmouseover(tooltip);\n            }\n        };\n    }\n\n    fig.buttons = {};\n    var buttonGroup = document.createElement('div');\n    buttonGroup.classList = 'btn-group';\n    var button;\n    for (var toolbar_ind in mpl.toolbar_items) {\n        var name = mpl.toolbar_items[toolbar_ind][0];\n        var tooltip = mpl.toolbar_items[toolbar_ind][1];\n        var image = mpl.toolbar_items[toolbar_ind][2];\n        var method_name = mpl.toolbar_items[toolbar_ind][3];\n\n        if (!name) {\n            /* Instead of a spacer, we start a new button group. */\n            if (buttonGroup.hasChildNodes()) {\n                toolbar.appendChild(buttonGroup);\n            }\n            buttonGroup = document.createElement('div');\n            buttonGroup.classList = 'btn-group';\n            continue;\n        }\n\n        button = fig.buttons[name] = document.createElement('button');\n        button.classList = 'btn btn-default';\n        button.href = '#';\n        button.title = name;\n        button.innerHTML = '<i class=\"fa ' + image + ' fa-lg\"></i>';\n        button.addEventListener('click', on_click_closure(method_name));\n        button.addEventListener('mouseover', on_mouseover_closure(tooltip));\n        buttonGroup.appendChild(button);\n    }\n\n    if (buttonGroup.hasChildNodes()) {\n        toolbar.appendChild(buttonGroup);\n    }\n\n    // Add the status bar.\n    var status_bar = document.createElement('span');\n    status_bar.classList = 'mpl-message pull-right';\n    toolbar.appendChild(status_bar);\n    this.message = status_bar;\n\n    // Add the close button to the window.\n    var buttongrp = document.createElement('div');\n    buttongrp.classList = 'btn-group inline pull-right';\n    button = document.createElement('button');\n    button.classList = 'btn btn-mini btn-primary';\n    button.href = '#';\n    button.title = 'Stop Interaction';\n    button.innerHTML = '<i class=\"fa fa-power-off icon-remove icon-large\"></i>';\n    button.addEventListener('click', function (_evt) {\n        fig.handle_close(fig, {});\n    });\n    button.addEventListener(\n        'mouseover',\n        on_mouseover_closure('Stop Interaction')\n    );\n    buttongrp.appendChild(button);\n    var titlebar = this.root.querySelector('.ui-dialog-titlebar');\n    titlebar.insertBefore(buttongrp, titlebar.firstChild);\n};\n\nmpl.figure.prototype._remove_fig_handler = function (event) {\n    var fig = event.data.fig;\n    if (event.target !== this) {\n        // Ignore bubbled events from children.\n        return;\n    }\n    fig.close_ws(fig, {});\n};\n\nmpl.figure.prototype._root_extra_style = function (el) {\n    el.style.boxSizing = 'content-box'; // override notebook setting of border-box.\n};\n\nmpl.figure.prototype._canvas_extra_style = function (el) {\n    // this is important to make the div 'focusable\n    el.setAttribute('tabindex', 0);\n    // reach out to IPython and tell the keyboard manager to turn it's self\n    // off when our div gets focus\n\n    // location in version 3\n    if (IPython.notebook.keyboard_manager) {\n        IPython.notebook.keyboard_manager.register_events(el);\n    } else {\n        // location in version 2\n        IPython.keyboard_manager.register_events(el);\n    }\n};\n\nmpl.figure.prototype._key_event_extra = function (event, _name) {\n    // Check for shift+enter\n    if (event.shiftKey && event.which === 13) {\n        this.canvas_div.blur();\n        // select the cell after this one\n        var index = IPython.notebook.find_cell_index(this.cell_info[0]);\n        IPython.notebook.select(index + 1);\n    }\n};\n\nmpl.figure.prototype.handle_save = function (fig, _msg) {\n    fig.ondownload(fig, null);\n};\n\nmpl.find_output_cell = function (html_output) {\n    // Return the cell and output element which can be found *uniquely* in the notebook.\n    // Note - this is a bit hacky, but it is done because the \"notebook_saving.Notebook\"\n    // IPython event is triggered only after the cells have been serialised, which for\n    // our purposes (turning an active figure into a static one), is too late.\n    var cells = IPython.notebook.get_cells();\n    var ncells = cells.length;\n    for (var i = 0; i < ncells; i++) {\n        var cell = cells[i];\n        if (cell.cell_type === 'code') {\n            for (var j = 0; j < cell.output_area.outputs.length; j++) {\n                var data = cell.output_area.outputs[j];\n                if (data.data) {\n                    // IPython >= 3 moved mimebundle to data attribute of output\n                    data = data.data;\n                }\n                if (data['text/html'] === html_output) {\n                    return [cell, data, j];\n                }\n            }\n        }\n    }\n};\n\n// Register the function which deals with the matplotlib target/channel.\n// The kernel may be null if the page has been refreshed.\nif (IPython.notebook.kernel !== null) {\n    IPython.notebook.kernel.comm_manager.register_target(\n        'matplotlib',\n        mpl.mpl_figure_comm\n    );\n}\n",
      "text/plain": [
       "<IPython.core.display.Javascript object>"
      ]
     },
     "metadata": {},
     "output_type": "display_data"
    },
    {
     "data": {
      "text/html": [
       "<div id='270451cf-45ab-42bd-9ecc-8400e6be88dd'></div>"
      ],
      "text/plain": [
       "<IPython.core.display.HTML object>"
      ]
     },
     "metadata": {},
     "output_type": "display_data"
    },
    {
     "name": "stdout",
     "output_type": "stream",
     "text": [
      "O gráfico foi salvo como backtest_AAPL_2020-01-01_to_2021-01-01.png. \n",
      "Esse é um gráfico bastante poluído, mas, se tiver interesse, existem formas de mudá-lo, basta uma rápida pesquisa :)\n"
     ]
    }
   ],
   "source": [
    "# Setando o valor inicial a ser investido na estratégia\n",
    "initial_cash = 15000\n",
    "\n",
    "# Definindo o saldo inicial\n",
    "cerebro.broker.set_cash(initial_cash)\n",
    "\n",
    "# Executando o backtest\n",
    "cerebro.run()\n",
    "\n",
    "# Capturando o saldo final\n",
    "final_cash = cerebro.broker.getvalue()\n",
    "\n",
    "# Exibindo os resultados\n",
    "print(f'Saldo inicial: ${initial_cash:.2f}')\n",
    "print(f'Saldo final: ${final_cash:.2f}')\n",
    "print(f'Lucro/Prejuízo: ${final_cash - initial_cash:.2f}')\n",
    "\n",
    "# Plota o gráfico e salva como PNG\n",
    "fig = cerebro.plot()[0][0]\n",
    "filename = f'backtest_{ticker}_{start_date}_to_{end_date}.png'\n",
    "fig.savefig(f'backtest_{ticker}_{start_date}_to_{end_date}.png')\n",
    "print(f'O gráfico foi salvo como {filename}. \\nEsse é um gráfico bastante poluído, mas, se tiver interesse, existem formas de mudá-lo, basta uma rápida pesquisa :)')\n"
   ]
  },
  {
   "cell_type": "code",
   "execution_count": null,
   "metadata": {},
   "outputs": [],
   "source": [
    "# tentei fazer por mim mesmo esse projeto também\n",
    "\n",
    "import backtrader as bt\n",
    "import yfinance as yf\n",
    "from datetime import datetime\n",
    "import pandas as pd\n",
    "\n",
    "class Estratégia(bt.Strategy):\n",
    "    def __init__(self):\n",
    "        self.media_curta = bt.indicators.SimpleMovingAverage(self.data.close, period=5)\n",
    "        self.media_longa = bt.indicators.SimpleMovingAverage(self.data.close, period=30)\n",
    "\n",
    "    def next(self):\n",
    "        # Condição para compra:\n",
    "        if self.media_curta[0] > self.media_longa[0] and not self.position:\n",
    "            self.buy()\n",
    "        elif self.media_curta[0] < self.media_longa[0] and self.position:\n",
    "            self.sell()  \n",
    "\n",
    "# Parâmetros relacionados a captura de dados do ticker.\n",
    "ticker = 'NVDA'\n",
    "start_date = '2024-01-01'\n",
    "end_date = '2025-01-01'\n",
    "\n",
    "data = yf.download(ticker, start=start_date, end=end_date, auto_adjust=True)\n",
    "\n",
    "# Verificando e ajustando as colunas para o formato correto\n",
    "if isinstance(data.columns, pd.MultiIndex):\n",
    "    data.columns = data.columns.get_level_values(0)  # Remove o MultiIndex)\n",
    "\n",
    "# Carregando os dados no Backtrader\n",
    "Algoritmo = bt.Cerebro()\n",
    "Algoritmo.adddata(bt.feeds.PandasData(dataname=data))\n",
    "Algoritmo.addstrategy(Estratégia)\n",
    "\n",
    "saldo_inicial_da_operação = 15000\n",
    "Algoritmo.broker.set_cash(saldo_inicial_da_operação)\n",
    "Algoritmo.run()\n",
    "saldo_final_da_operação = Algoritmo.broker.getvalue()\n",
    "\n",
    "# Exibindo os resultados\n",
    "print(f'Saldo inicial: ${saldo_inicial_da_operação:.2f}')\n",
    "print(f'Saldo final: ${saldo_final_da_operação:.2f}')\n",
    "print(f'Lucro/Prejuízo: ${saldo_final_da_operação - saldo_inicial_da_operação:.2f}')\n"
   ]
  },
  {
   "cell_type": "markdown",
   "metadata": {},
   "source": [
    "## **POO na Prática: O Que Você Já Usava Sem Perceber**"
   ]
  },
  {
   "cell_type": "markdown",
   "metadata": {},
   "source": [
    "### **1. Pandas e NumPy São Baseados em POO**"
   ]
  },
  {
   "cell_type": "markdown",
   "metadata": {},
   "source": [
    "Quando vocês criam um DataFrame no Pandas ou uma matriz no NumPy, estão na verdade instanciando objetos de classes que já foram definidas pelos desenvolvedores dessas bibliotecas!\n",
    "\n",
    "🔹 Exemplo: Quando usamos:\n",
    "\n",
    "```python\n",
    "    import pandas as pd\n",
    "\n",
    "    df = pd.DataFrame({\"Nome\": [\"Ana\", \"Carlos\"], \"Idade\": [25, 30]})\n",
    "    print(df.shape)  # Atributo\n",
    "    print(df.describe())  # Método\n",
    "```\n",
    "\n",
    "Aqui, df é um objeto da classe DataFrame, e .shape e .describe() são atributos e métodos, exatamente como vocês aprenderam!\n",
    "\n",
    "🔹 O mesmo acontece no NumPy:\n",
    "\n",
    "```python\n",
    "    import numpy as np\n",
    "\n",
    "    matriz = np.array([[1, 2], [3, 4]])\n",
    "    print(matriz.T)  # Transposta (método)\n",
    "    print(matriz.shape)  # Dimensão (atributo)\n",
    "```\n",
    "\n",
    "Agora fica claro que tudo isso são apenas classes bem projetadas!"
   ]
  },
  {
   "cell_type": "markdown",
   "metadata": {},
   "source": [
    "### **2. Strings, Listas e Dicionários Também São Objetos**"
   ]
  },
  {
   "cell_type": "markdown",
   "metadata": {},
   "source": [
    "Vocês já usaram .upper(), .append() e .items() centenas de vezes, certo? Agora vocês sabem que esses são métodos das classes str, list e dict.\n",
    "\n",
    "🔹 Exemplo:\n",
    "\n",
    "```python\n",
    "    texto = \"hello\"\n",
    "    print(texto.upper())  # Método da classe str\n",
    "\n",
    "    lista = [1, 2, 3]\n",
    "    lista.append(4)  # Método da classe list\n",
    "\n",
    "    dicionario = {\"chave\": \"valor\"}\n",
    "    print(dicionario.items())  # Método da classe dict\n",
    "```\n",
    "\n",
    "Cada um desses tipos é uma classe que disponibiliza métodos específicos sem que precisemos nos preocupar com sua implementação interna!"
   ]
  },
  {
   "cell_type": "markdown",
   "metadata": {},
   "source": [
    "### **3. Modelos de Machine Learning São Objetos!**"
   ]
  },
  {
   "cell_type": "markdown",
   "metadata": {},
   "source": [
    "Se você já usou Scikit-Learn, viu que um modelo precisa ser instanciado, treinado e testado – tudo isso são conceitos de POO.\n",
    "\n",
    "🔹 Exemplo:\n",
    "\n",
    "```python\n",
    "    from sklearn.linear_model import LinearRegression\n",
    "\n",
    "    modelo = LinearRegression()  # Criando um objeto da classe LinearRegression\n",
    "    modelo.fit(X_train, y_train)  # Método para treinar o modelo\n",
    "    y_pred = modelo.predict(X_test)  # Método para prever valores\n",
    "```\n",
    "\n",
    "O modelo é um objeto, e .fit() e .predict() são métodos que manipulam esse objeto!"
   ]
  },
  {
   "cell_type": "markdown",
   "metadata": {},
   "source": [
    "###"
   ]
  },
  {
   "cell_type": "markdown",
   "metadata": {},
   "source": [
    "Esses são apenas alguns exemplos, mas o mundo da programação está repleto de aplicações da POO. Frameworks como Django para desenvolvimento web, bibliotecas de visualização como Matplotlib e até ferramentas de automação seguem esses mesmos princípios. Agora que você entende a base por trás dessas estruturas, conseguirá identificar a POO em quase todos os códigos que encontrar.\n",
    "\n",
    "\n",
    "\n",
    "\n",
    "\n",
    "\n",
    "\n"
   ]
  },
  {
   "cell_type": "markdown",
   "metadata": {},
   "source": [
    "## **Conclusão: POO é uma Nova Forma de Pensar Programação**"
   ]
  },
  {
   "cell_type": "markdown",
   "metadata": {},
   "source": [
    "Ao longo dessa jornada, exploramos os conceitos fundamentais da Programação Orientada a Objetos (POO) e como eles se aplicam tanto na teoria quanto na prática. Aprendemos que POO não é apenas um conjunto de regras ou palavras-chave, mas sim uma forma diferente de estruturar e organizar nossos programas.\n",
    "\n",
    "Através de abstração, encapsulamento, herança e polimorfismo, vimos como é possível criar sistemas modulares, reutilizáveis e mais fáceis de manter. Mais do que isso, percebemos que essas ideias não estão isoladas do nosso dia a dia: bibliotecas que usamos o tempo todo, como Pandas e NumPy, foram construídas seguindo esses princípios.\n",
    "\n",
    "Agora que vocês conhecem POO, conseguem enxergar que quase tudo o que usamos em Python segue esse modelo. O conhecimento que vocês adquiriram não serve apenas para criar classes do zero, mas também para entender como as bibliotecas funcionam internamente e até para desenvolver códigos mais eficientes e organizados. 🚀💡\n",
    "\n",
    "POO também não se limita a uma única área. Seja no mercado financeiro, inteligência artificial, desenvolvimento web ou até mesmo em jogos, essa abordagem pode tornar o código mais intuitivo e escalável. Cada problema pode ser resolvido de diferentes formas, e POO nos dá uma maneira poderosa de estruturar nossas soluções.\n",
    "\n",
    "Agora que você compreende esses conceitos, vale a pena revisitar códigos antigos e tentar enxergá-los com essa nova perspectiva. Você vai perceber como muitas das ferramentas que já usa são baseadas nesses mesmos princípios! 🚀"
   ]
  }
 ],
 "metadata": {
  "kernelspec": {
   "display_name": "base",
   "language": "python",
   "name": "python3"
  },
  "language_info": {
   "codemirror_mode": {
    "name": "ipython",
    "version": 3
   },
   "file_extension": ".py",
   "mimetype": "text/x-python",
   "name": "python",
   "nbconvert_exporter": "python",
   "pygments_lexer": "ipython3",
   "version": "3.12.7"
  }
 },
 "nbformat": 4,
 "nbformat_minor": 2
}
