{
 "cells": [
  {
   "cell_type": "markdown",
   "metadata": {},
   "source": [
    "# **Lista 7 - Visualização de dados**"
   ]
  },
  {
   "cell_type": "markdown",
   "metadata": {},
   "source": [
    "#### **Fala devs, beleza?**\n",
    "Bem vindos à ultima lista de exercícios do nosso curso! Aqui serão abordados assuntos envolvendo o tema de \"Visualização de dados\". <br><br>Usaremos um *dataset* de dados de uma certa clínica médica, em que cada observação corresponde a um paciente."
   ]
  },
  {
   "cell_type": "markdown",
   "metadata": {},
   "source": [
    "<h3> Importando os dados"
   ]
  },
  {
   "cell_type": "markdown",
   "metadata": {},
   "source": [
    "Antes de iniciar o processo de visualização, é necessário que importemos os dados do arquivo .csv, bem como as bibliotecas que iremos utilizar:"
   ]
  },
  {
   "cell_type": "code",
   "execution_count": 6,
   "metadata": {},
   "outputs": [],
   "source": [
    "### Importando as bibliotecas\n",
    "# Caso precise instalar alguma biblioteca use: %pip install nome_da_biblioteca\n",
    "import numpy as np\n",
    "import pandas as pd\n",
    "import matplotlib.pyplot as plt\n",
    "import seaborn as sns\n",
    "import plotly.express as px"
   ]
  },
  {
   "cell_type": "code",
   "execution_count": 7,
   "metadata": {},
   "outputs": [],
   "source": [
    "### Carregando o dataset\n",
    "data = pd.read_csv(\"dataset_dev.csv\")"
   ]
  },
  {
   "cell_type": "markdown",
   "metadata": {},
   "source": [
    "Uma vez importados, podemos buscar entender a estrutura dos dados e a forma como foram organizados, por meio da exploração dos mesmos:"
   ]
  },
  {
   "cell_type": "code",
   "execution_count": 10,
   "metadata": {},
   "outputs": [
    {
     "data": {
      "text/html": [
       "<div>\n",
       "<style scoped>\n",
       "    .dataframe tbody tr th:only-of-type {\n",
       "        vertical-align: middle;\n",
       "    }\n",
       "\n",
       "    .dataframe tbody tr th {\n",
       "        vertical-align: top;\n",
       "    }\n",
       "\n",
       "    .dataframe thead th {\n",
       "        text-align: right;\n",
       "    }\n",
       "</style>\n",
       "<table border=\"1\" class=\"dataframe\">\n",
       "  <thead>\n",
       "    <tr style=\"text-align: right;\">\n",
       "      <th></th>\n",
       "      <th>hotel</th>\n",
       "      <th>is_canceled</th>\n",
       "      <th>lead_time</th>\n",
       "      <th>arrival_date_year</th>\n",
       "      <th>arrival_date_month</th>\n",
       "      <th>arrival_date_week_number</th>\n",
       "      <th>arrival_date_day_of_month</th>\n",
       "      <th>stays_in_weekend_nights</th>\n",
       "      <th>stays_in_week_nights</th>\n",
       "      <th>adults</th>\n",
       "      <th>children</th>\n",
       "      <th>babies</th>\n",
       "      <th>country</th>\n",
       "      <th>previous_cancellations</th>\n",
       "      <th>booking_changes</th>\n",
       "      <th>days_in_waiting_list</th>\n",
       "      <th>adr</th>\n",
       "      <th>required_car_parking_spaces</th>\n",
       "      <th>total_of_special_requests</th>\n",
       "      <th>reservation_status_date</th>\n",
       "    </tr>\n",
       "  </thead>\n",
       "  <tbody>\n",
       "    <tr>\n",
       "      <th>0</th>\n",
       "      <td>Resort Hotel</td>\n",
       "      <td>0</td>\n",
       "      <td>342</td>\n",
       "      <td>2015</td>\n",
       "      <td>July</td>\n",
       "      <td>27</td>\n",
       "      <td>1</td>\n",
       "      <td>0</td>\n",
       "      <td>0</td>\n",
       "      <td>2</td>\n",
       "      <td>0.0</td>\n",
       "      <td>0</td>\n",
       "      <td>PRT</td>\n",
       "      <td>0</td>\n",
       "      <td>3</td>\n",
       "      <td>0</td>\n",
       "      <td>0.0</td>\n",
       "      <td>0</td>\n",
       "      <td>0</td>\n",
       "      <td>2015-07-01</td>\n",
       "    </tr>\n",
       "    <tr>\n",
       "      <th>1</th>\n",
       "      <td>Resort Hotel</td>\n",
       "      <td>0</td>\n",
       "      <td>737</td>\n",
       "      <td>2015</td>\n",
       "      <td>July</td>\n",
       "      <td>27</td>\n",
       "      <td>1</td>\n",
       "      <td>0</td>\n",
       "      <td>0</td>\n",
       "      <td>2</td>\n",
       "      <td>0.0</td>\n",
       "      <td>0</td>\n",
       "      <td>PRT</td>\n",
       "      <td>0</td>\n",
       "      <td>4</td>\n",
       "      <td>0</td>\n",
       "      <td>0.0</td>\n",
       "      <td>0</td>\n",
       "      <td>0</td>\n",
       "      <td>2015-07-01</td>\n",
       "    </tr>\n",
       "    <tr>\n",
       "      <th>2</th>\n",
       "      <td>Resort Hotel</td>\n",
       "      <td>0</td>\n",
       "      <td>7</td>\n",
       "      <td>2015</td>\n",
       "      <td>July</td>\n",
       "      <td>27</td>\n",
       "      <td>1</td>\n",
       "      <td>0</td>\n",
       "      <td>1</td>\n",
       "      <td>1</td>\n",
       "      <td>0.0</td>\n",
       "      <td>0</td>\n",
       "      <td>GBR</td>\n",
       "      <td>0</td>\n",
       "      <td>0</td>\n",
       "      <td>0</td>\n",
       "      <td>75.0</td>\n",
       "      <td>0</td>\n",
       "      <td>0</td>\n",
       "      <td>2015-07-02</td>\n",
       "    </tr>\n",
       "    <tr>\n",
       "      <th>3</th>\n",
       "      <td>Resort Hotel</td>\n",
       "      <td>0</td>\n",
       "      <td>13</td>\n",
       "      <td>2015</td>\n",
       "      <td>July</td>\n",
       "      <td>27</td>\n",
       "      <td>1</td>\n",
       "      <td>0</td>\n",
       "      <td>1</td>\n",
       "      <td>1</td>\n",
       "      <td>0.0</td>\n",
       "      <td>0</td>\n",
       "      <td>GBR</td>\n",
       "      <td>0</td>\n",
       "      <td>0</td>\n",
       "      <td>0</td>\n",
       "      <td>75.0</td>\n",
       "      <td>0</td>\n",
       "      <td>0</td>\n",
       "      <td>2015-07-02</td>\n",
       "    </tr>\n",
       "    <tr>\n",
       "      <th>4</th>\n",
       "      <td>Resort Hotel</td>\n",
       "      <td>0</td>\n",
       "      <td>14</td>\n",
       "      <td>2015</td>\n",
       "      <td>July</td>\n",
       "      <td>27</td>\n",
       "      <td>1</td>\n",
       "      <td>0</td>\n",
       "      <td>2</td>\n",
       "      <td>2</td>\n",
       "      <td>0.0</td>\n",
       "      <td>0</td>\n",
       "      <td>GBR</td>\n",
       "      <td>0</td>\n",
       "      <td>0</td>\n",
       "      <td>0</td>\n",
       "      <td>98.0</td>\n",
       "      <td>0</td>\n",
       "      <td>1</td>\n",
       "      <td>2015-07-03</td>\n",
       "    </tr>\n",
       "  </tbody>\n",
       "</table>\n",
       "</div>"
      ],
      "text/plain": [
       "          hotel  is_canceled  lead_time  arrival_date_year arrival_date_month  \\\n",
       "0  Resort Hotel            0        342               2015               July   \n",
       "1  Resort Hotel            0        737               2015               July   \n",
       "2  Resort Hotel            0          7               2015               July   \n",
       "3  Resort Hotel            0         13               2015               July   \n",
       "4  Resort Hotel            0         14               2015               July   \n",
       "\n",
       "   arrival_date_week_number  arrival_date_day_of_month  \\\n",
       "0                        27                          1   \n",
       "1                        27                          1   \n",
       "2                        27                          1   \n",
       "3                        27                          1   \n",
       "4                        27                          1   \n",
       "\n",
       "   stays_in_weekend_nights  stays_in_week_nights  adults  children  babies  \\\n",
       "0                        0                     0       2       0.0       0   \n",
       "1                        0                     0       2       0.0       0   \n",
       "2                        0                     1       1       0.0       0   \n",
       "3                        0                     1       1       0.0       0   \n",
       "4                        0                     2       2       0.0       0   \n",
       "\n",
       "  country  previous_cancellations  booking_changes  days_in_waiting_list  \\\n",
       "0     PRT                       0                3                     0   \n",
       "1     PRT                       0                4                     0   \n",
       "2     GBR                       0                0                     0   \n",
       "3     GBR                       0                0                     0   \n",
       "4     GBR                       0                0                     0   \n",
       "\n",
       "    adr  required_car_parking_spaces  total_of_special_requests  \\\n",
       "0   0.0                            0                          0   \n",
       "1   0.0                            0                          0   \n",
       "2  75.0                            0                          0   \n",
       "3  75.0                            0                          0   \n",
       "4  98.0                            0                          1   \n",
       "\n",
       "  reservation_status_date  \n",
       "0              2015-07-01  \n",
       "1              2015-07-01  \n",
       "2              2015-07-02  \n",
       "3              2015-07-02  \n",
       "4              2015-07-03  "
      ]
     },
     "execution_count": 10,
     "metadata": {},
     "output_type": "execute_result"
    }
   ],
   "source": [
    "data.head()"
   ]
  },
  {
   "cell_type": "code",
   "execution_count": 6,
   "metadata": {},
   "outputs": [
    {
     "name": "stdout",
     "output_type": "stream",
     "text": [
      "<class 'pandas.core.frame.DataFrame'>\n",
      "RangeIndex: 118898 entries, 0 to 118897\n",
      "Data columns (total 20 columns):\n",
      " #   Column                       Non-Null Count   Dtype  \n",
      "---  ------                       --------------   -----  \n",
      " 0   hotel                        118898 non-null  object \n",
      " 1   is_canceled                  118898 non-null  int64  \n",
      " 2   lead_time                    118898 non-null  int64  \n",
      " 3   arrival_date_year            118898 non-null  int64  \n",
      " 4   arrival_date_month           118898 non-null  object \n",
      " 5   arrival_date_week_number     118898 non-null  int64  \n",
      " 6   arrival_date_day_of_month    118898 non-null  int64  \n",
      " 7   stays_in_weekend_nights      118898 non-null  int64  \n",
      " 8   stays_in_week_nights         118898 non-null  int64  \n",
      " 9   adults                       118898 non-null  int64  \n",
      " 10  children                     118898 non-null  float64\n",
      " 11  babies                       118898 non-null  int64  \n",
      " 12  country                      118898 non-null  object \n",
      " 13  previous_cancellations       118898 non-null  int64  \n",
      " 14  booking_changes              118898 non-null  int64  \n",
      " 15  days_in_waiting_list         118898 non-null  int64  \n",
      " 16  adr                          118898 non-null  float64\n",
      " 17  required_car_parking_spaces  118898 non-null  int64  \n",
      " 18  total_of_special_requests    118898 non-null  int64  \n",
      " 19  reservation_status_date      118898 non-null  object \n",
      "dtypes: float64(2), int64(14), object(4)\n",
      "memory usage: 18.1+ MB\n"
     ]
    }
   ],
   "source": [
    "data.info()"
   ]
  },
  {
   "cell_type": "code",
   "execution_count": 7,
   "metadata": {},
   "outputs": [
    {
     "data": {
      "text/plain": [
       "(118898, 20)"
      ]
     },
     "execution_count": 7,
     "metadata": {},
     "output_type": "execute_result"
    }
   ],
   "source": [
    "data.shape"
   ]
  },
  {
   "cell_type": "markdown",
   "metadata": {},
   "source": [
    "Breve descrição das colunas: <br><br>\n",
    "\n",
    "**hotel**: Tipo de hotel (Resort Hotel ou City Hotel).\n",
    "\n",
    "**is_canceled**: Indica se a reserva foi cancelada (0 para não cancelada, 1 para cancelada).\n",
    "\n",
    "**lead_time**: Número de dias entre a data da reserva e a data de chegada.\n",
    "\n",
    "**arrival_date_year**: Ano da data de chegada.\n",
    "\n",
    "**arrival_date_month**: Mês da data de chegada.\n",
    "\n",
    "**arrival_date_week_number**: Número da semana do ano da data de chegada.\n",
    "\n",
    "**arrival_date_day_of_month**: Dia do mês da data de chegada.\n",
    "\n",
    "**stays_in_weekend_nights**: Número de noites de estadia durante os fins de semana.\n",
    "\n",
    "**stays_in_week_nights**: Número de noites de estadia durante os dias de semana.\n",
    "\n",
    "**adults**: Número de adultos.\n",
    "\n",
    "**children**: Número de crianças.\n",
    "\n",
    "**babies**: Número de bebês.\n",
    "\n",
    "**country**: País de origem.\n",
    "\n",
    "**previous_cancellations**: Número de reservas canceladas anteriormente pelo cliente.\n",
    "\n",
    "**booking_changes**: Número de alterações feitas na reserva.\n",
    "\n",
    "**days_in_waiting_list**: Número de dias na lista de espera antes da confirmação da reserva.\n",
    "\n",
    "**adr**: Tarifa média diária (Average Daily Rate).\n",
    "\n",
    "**required_car_parking_spaces**: Número de vagas de estacionamento necessárias.\n",
    "\n",
    "**total_of_special_requests**: Número total de pedidos especiais feitos pelo cliente.\n",
    "\n",
    "**reservation_status_date**: Data da última atualização do status da reserva."
   ]
  },
  {
   "cell_type": "markdown",
   "metadata": {},
   "source": [
    "A partir dessas informações, já podemos iniciar o processo de visualização de dados. E assim sendo, agora é com vocês!!"
   ]
  },
  {
   "cell_type": "markdown",
   "metadata": {},
   "source": [
    "# Exercícios"
   ]
  },
  {
   "cell_type": "markdown",
   "metadata": {},
   "source": [
    "<h2> Questão 1"
   ]
  },
  {
   "cell_type": "markdown",
   "metadata": {},
   "source": [
    "#### Faça um gráfico que relacione a quantidade de dias de antecedência da reserva com a tarifa média diária:"
   ]
  },
  {
   "cell_type": "code",
   "execution_count": 8,
   "metadata": {},
   "outputs": [],
   "source": [
    "### REMOÇÃO DOS OUTLIERS ###\n",
    "from scipy import stats\n",
    "z_scores = stats.zscore(data['adr'])\n",
    "threshold = 3\n",
    "data = data[(z_scores < threshold)]"
   ]
  },
  {
   "cell_type": "code",
   "execution_count": 1,
   "metadata": {},
   "outputs": [],
   "source": [
    "### SEU CÓDIGO COMEÇA AQUI ###\n",
    "\n",
    "sns.barplot(x='lead_time', y='adr', data=df)\n",
    "plt.xlabel('Tarifa média diária')\n",
    "plt.ylabel('Quantidade de dias de antecedência da reserva')\n",
    "plt.show()"
   ]
  },
  {
   "cell_type": "markdown",
   "metadata": {},
   "source": [
    "## Questão 2"
   ]
  },
  {
   "cell_type": "markdown",
   "metadata": {},
   "source": [
    "#### a) Faça um gráfico para analisar a quantidade de hoteis de cada tipo na amostra"
   ]
  },
  {
   "cell_type": "code",
   "execution_count": 9,
   "metadata": {},
   "outputs": [],
   "source": [
    "### SEU CÓDIGO COMEÇA AQUI ###\n",
    "import numpy as np\n",
    "import pandas as pd\n",
    "import matplotlib.pyplot as plt\n",
    "import seaborn as sns\n",
    "import plotly.express as px\n",
    "from scipy import stats\n",
    "\n",
    "path = 'D:\\\\Users\\\\Ygor\\\\Downloads\\\\FEA.dev\\\\Curso\\\\dataset_dev.csv'\n",
    "\n",
    "df = pd.read_csv(path)\n",
    "\n",
    "z_scores = stats.zscore(df['adr'])\n",
    "threshold = 3\n",
    "df = df[(z_scores < threshold)]\n",
    "\n",
    "manter = ['hotel']\n",
    "df = df.drop(columns=[col for col in df.columns if col not in manter])\n",
    "df = df.groupby('hotel').size()\n",
    "df = df.to_frame()\n",
    "df.columns = ['saxixa']\n",
    "\n",
    "sns.barplot(x='hotel', y='saxixa', data=df)\n",
    "plt.show()"
   ]
  },
  {
   "cell_type": "markdown",
   "metadata": {},
   "source": [
    "#### b) Agora, faça um gráfico para analisar a quantidade de reservas canceladas para cada tipo de hotel\n",
    "dica: dê uma olhada na função ```.countplot()``` do *Seaborn*"
   ]
  },
  {
   "cell_type": "code",
   "execution_count": 10,
   "metadata": {},
   "outputs": [],
   "source": [
    "### SEU CÓDIGO COMEÇA AQUI ###\n",
    "import numpy as np\n",
    "import pandas as pd\n",
    "import matplotlib.pyplot as plt\n",
    "import seaborn as sns\n",
    "import plotly.express as px\n",
    "from scipy import stats\n",
    "\n",
    "path = 'D:\\\\Users\\\\Ygor\\\\Downloads\\\\FEA.dev\\\\Curso\\\\dataset_dev.csv'\n",
    "\n",
    "df = pd.read_csv(path)\n",
    "\n",
    "z_scores = stats.zscore(df['adr'])\n",
    "threshold = 3\n",
    "df = df[(z_scores < threshold)]\n",
    "\n",
    "manter = ['hotel', 'is_canceled']\n",
    "df = df.drop(columns=[col for col in df.columns if col not in manter])\n",
    "df = df.groupby('hotel')['is_canceled'].sum()\n",
    "df = df.to_frame()\n",
    "df.columns = ['saxixa']\n",
    "#df = df.to_frame()\n",
    "#df.columns = ['saxixa']\n",
    "\n",
    "sns.barplot(x='hotel', y='saxixa', data=df)\n",
    "plt.show()"
   ]
  },
  {
   "cell_type": "markdown",
   "metadata": {},
   "source": [
    "## Questão 3"
   ]
  },
  {
   "cell_type": "markdown",
   "metadata": {},
   "source": [
    "### a) Faça um gráfico que demonstre a quantidade de noites de estadia durante os fins de semana, dividindo o gráfico em 20 intervalos distintos: <br> \n",
    "Dica: tente utilizar o parâmetro '*bins*' do matplotlib para selecionar a quantidade de grupos que deseja utilizar"
   ]
  },
  {
   "cell_type": "code",
   "execution_count": 11,
   "metadata": {},
   "outputs": [],
   "source": [
    "### SEU CÓDIGO COMEÇA AQUI ###\n",
    "import numpy as np\n",
    "import pandas as pd\n",
    "import matplotlib.pyplot as plt\n",
    "import seaborn as sns\n",
    "import plotly.express as px\n",
    "from scipy import stats\n",
    "\n",
    "path = 'D:\\\\Users\\\\Ygor\\\\Downloads\\\\FEA.dev\\\\Curso\\\\dataset_dev.csv'\n",
    "\n",
    "df = pd.read_csv(path)\n",
    "\n",
    "z_scores = stats.zscore(df['adr'])\n",
    "threshold = 3\n",
    "df = df[(z_scores < threshold)]\n",
    "manter = ['stays_in_weekend_nights']\n",
    "df = df.drop(columns=[col for col in df.columns if col not in manter])\n",
    "sns.histplot(data=df, x='stays_in_weekend_nights', bins=20)\n",
    "plt.show()\n"
   ]
  },
  {
   "cell_type": "markdown",
   "metadata": {},
   "source": [
    "### b) Agora, faça a mesma coisa para as estadias em dias da semana:"
   ]
  },
  {
   "cell_type": "code",
   "execution_count": 12,
   "metadata": {},
   "outputs": [],
   "source": [
    "### SEU CÓDIGO COMEÇA AQUI ###\n",
    "import numpy as np\n",
    "import pandas as pd\n",
    "import matplotlib.pyplot as plt\n",
    "import seaborn as sns\n",
    "import plotly.express as px\n",
    "from scipy import stats\n",
    "\n",
    "path = 'D:\\\\Users\\\\Ygor\\\\Downloads\\\\FEA.dev\\\\Curso\\\\dataset_dev.csv'\n",
    "\n",
    "df = pd.read_csv(path)\n",
    "\n",
    "z_scores = stats.zscore(df['adr'])\n",
    "threshold = 3\n",
    "df = df[(z_scores < threshold)]\n",
    "manter = ['stays_in_week_nights']\n",
    "df = df.drop(columns=[col for col in df.columns if col not in manter])\n",
    "sns.histplot(data=df, x='stays_in_week_nights', bins=20)\n",
    "plt.show()"
   ]
  },
  {
   "cell_type": "markdown",
   "metadata": {},
   "source": [
    "### c) Por fim, relacione o número de dias de estadia nos fins de semana e nos dias de semana, diferenciando-os pelo tipo de hotel (ou seja, city hotel ou resort hotel):"
   ]
  },
  {
   "cell_type": "code",
   "execution_count": 13,
   "metadata": {},
   "outputs": [],
   "source": [
    "### SEU CÓDIGO COMEÇA AQUI ###\n",
    "### SEU CÓDIGO COMEÇA AQUI ###\n",
    "import numpy as np\n",
    "import pandas as pd\n",
    "import matplotlib.pyplot as plt\n",
    "import seaborn as sns\n",
    "import plotly.express as px\n",
    "from scipy import stats\n",
    "\n",
    "path = 'D:\\\\Users\\\\Ygor\\\\Downloads\\\\FEA.dev\\\\Curso\\\\dataset_dev.csv'\n",
    "\n",
    "df = pd.read_csv(path)\n",
    "\n",
    "z_scores = stats.zscore(df['adr'])\n",
    "threshold = 3\n",
    "df = df[(z_scores < threshold)]\n",
    "manter = ['hotel', 'stays_in_week_nights', 'stays_in_weekend_nights' ]\n",
    "df = df.drop(columns=[col for col in df.columns if col not in manter])\n",
    "\n",
    "sns.scatterplot(x='stays_in_weekend_nights', y='stays_in_week_nights', data=df, hue='hotel')\n",
    "plt.show()\n"
   ]
  },
  {
   "cell_type": "markdown",
   "metadata": {},
   "source": [
    "## Questão 4"
   ]
  },
  {
   "cell_type": "markdown",
   "metadata": {},
   "source": [
    "### a) Faça um gráfico que nos permita ver a evolução temporal das taxas médias diárias ao decorrer dos meses do ano\n",
    "Dica: neste exercício, pode-se fazer útil o uso do parâmetro '*errorbar*' da biblioteca seaborn para refinar o seu gráfico"
   ]
  },
  {
   "cell_type": "code",
   "execution_count": 14,
   "metadata": {},
   "outputs": [],
   "source": [
    "### SEU CÓDIGO COMEÇA AQUI ###\n",
    "import numpy as np\n",
    "import pandas as pd\n",
    "import matplotlib.pyplot as plt\n",
    "import seaborn as sns\n",
    "import plotly.express as px\n",
    "from scipy import stats\n",
    "\n",
    "path = 'D:\\\\Users\\\\Ygor\\\\Downloads\\\\FEA.dev\\\\Curso\\\\dataset_dev.csv'\n",
    "\n",
    "df = pd.read_csv(path)\n",
    "\n",
    "z_scores = stats.zscore(df['adr'])\n",
    "threshold = 3\n",
    "df = df[(z_scores < threshold)]\n",
    "\n",
    "sns.lineplot(x='arrival_date_month', y='adr', data=df, errorbar = 1)\n",
    "plt.show()\n"
   ]
  },
  {
   "cell_type": "markdown",
   "metadata": {},
   "source": [
    "### b) Faça um gráfico que nos permita ver a evolução temporal das taxas médias diárias ao decorrer dos anos"
   ]
  },
  {
   "cell_type": "code",
   "execution_count": 15,
   "metadata": {},
   "outputs": [],
   "source": [
    "### SEU CÓDIGO COMEÇA AQUI ###\n",
    "import numpy as np\n",
    "import pandas as pd\n",
    "import matplotlib.pyplot as plt\n",
    "import seaborn as sns\n",
    "import plotly.express as px\n",
    "from scipy import stats\n",
    "\n",
    "path = 'D:\\\\Users\\\\Ygor\\\\Downloads\\\\FEA.dev\\\\Curso\\\\dataset_dev.csv'\n",
    "\n",
    "df = pd.read_csv(path)\n",
    "\n",
    "z_scores = stats.zscore(df['adr'])\n",
    "threshold = 3\n",
    "df = df[(z_scores < threshold)]\n",
    "\n",
    "plt.figure(figsize=(8, 6))\n",
    "sns.lineplot(x='arrival_date_year', y='adr', data=df)\n",
    "plt.show()\n"
   ]
  },
  {
   "cell_type": "markdown",
   "metadata": {},
   "source": [
    "## Questão 5"
   ]
  },
  {
   "cell_type": "markdown",
   "metadata": {},
   "source": [
    "### Faça um gráfico que nos permita analisar a correlação entre todas as colunas numéricas ao mesmo tempo"
   ]
  },
  {
   "cell_type": "code",
   "execution_count": 16,
   "metadata": {},
   "outputs": [],
   "source": [
    "### SEU CÓDIGO COMEÇA AQUI ###\n",
    "import numpy as np\n",
    "import pandas as pd\n",
    "import matplotlib.pyplot as plt\n",
    "import seaborn as sns\n",
    "import plotly.express as px\n",
    "from scipy import stats\n",
    "\n",
    "path = 'D:\\\\Users\\\\Ygor\\\\Downloads\\\\FEA.dev\\\\Curso\\\\dataset_dev.csv'\n",
    "\n",
    "df = pd.read_csv(path)\n",
    "\n",
    "z_scores = stats.zscore(df['adr'])\n",
    "threshold = 3\n",
    "df = df[(z_scores < threshold)]\n",
    "\n",
    "df2 = df\n",
    "\n",
    "so_num = df2.select_dtypes(include=np.number)\n",
    "correlacoes = so_num.corr()\n",
    "\n",
    "sns.scatterplot(correlacoes)\n",
    "plt.show()\n",
    "\n",
    "\n"
   ]
  },
  {
   "cell_type": "markdown",
   "metadata": {},
   "source": [
    "## Questão 6"
   ]
  },
  {
   "cell_type": "markdown",
   "metadata": {},
   "source": [
    "### Faça um gráfico interativo e dinâmico da distribuição do número de dias entre a data da reserva e a da chegada, e do tipo de hotel"
   ]
  },
  {
   "cell_type": "code",
   "execution_count": 17,
   "metadata": {},
   "outputs": [],
   "source": [
    "### SEU CÓDIGO COMEÇA AQUI ###\n",
    "import numpy as np\n",
    "import pandas as pd\n",
    "import matplotlib.pyplot as plt\n",
    "import seaborn as sns\n",
    "import plotly.express as px\n",
    "from scipy import stats\n",
    "\n",
    "path = 'D:\\\\Users\\\\Ygor\\\\Downloads\\\\FEA.dev\\\\Curso\\\\dataset_dev.csv'\n",
    "\n",
    "df = pd.read_csv(path)\n",
    "\n",
    "z_scores = stats.zscore(df['adr'])\n",
    "threshold = 3\n",
    "df = df[(z_scores < threshold)]\n",
    "\n",
    "graf = px.box(df, x='lead_time', y='hotel')\n",
    "graf.show()\n",
    "\n",
    "\n"
   ]
  }
 ],
 "metadata": {
  "kernelspec": {
   "display_name": "base",
   "language": "python",
   "name": "python3"
  },
  "language_info": {
   "codemirror_mode": {
    "name": "ipython",
    "version": 3
   },
   "file_extension": ".py",
   "mimetype": "text/x-python",
   "name": "python",
   "nbconvert_exporter": "python",
   "pygments_lexer": "ipython3",
   "version": "3.12.4"
  }
 },
 "nbformat": 4,
 "nbformat_minor": 2
}
